{
 "cells": [
  {
   "cell_type": "markdown",
   "id": "3911ed99",
   "metadata": {
    "toc": true
   },
   "source": [
    "<h1>Содержание<span class=\"tocSkip\"></span></h1>\n",
    "<div class=\"toc\"><ul class=\"toc-item\"><li><span><a href=\"#Описание-задачи\" data-toc-modified-id=\"Описание-задачи-1\"><span class=\"toc-item-num\">1&nbsp;&nbsp;</span>Описание задачи</a></span></li><li><span><a href=\"#Импорты\" data-toc-modified-id=\"Импорты-2\"><span class=\"toc-item-num\">2&nbsp;&nbsp;</span>Импорты</a></span></li><li><span><a href=\"#Загрузка-данных\" data-toc-modified-id=\"Загрузка-данных-3\"><span class=\"toc-item-num\">3&nbsp;&nbsp;</span>Загрузка данных</a></span></li><li><span><a href=\"#Предобработка\" data-toc-modified-id=\"Предобработка-4\"><span class=\"toc-item-num\">4&nbsp;&nbsp;</span>Предобработка</a></span></li><li><span><a href=\"#EDA\" data-toc-modified-id=\"EDA-5\"><span class=\"toc-item-num\">5&nbsp;&nbsp;</span>EDA</a></span></li><li><span><a href=\"#Обучение-моделей\" data-toc-modified-id=\"Обучение-моделей-6\"><span class=\"toc-item-num\">6&nbsp;&nbsp;</span>Обучение моделей</a></span><ul class=\"toc-item\"><li><span><a href=\"#Бинарная-классификация\" data-toc-modified-id=\"Бинарная-классификация-6.1\"><span class=\"toc-item-num\">6.1&nbsp;&nbsp;</span>Бинарная классификация</a></span></li></ul></li></ul></div>"
   ]
  },
  {
   "cell_type": "markdown",
   "id": "c872862a",
   "metadata": {},
   "source": [
    "### Описание задачи\n",
    "\n",
    " **Задание №3**. Постройте прогнозую модель для датасета с UCI Machine Learning: предобработайте категориальные фичи, отберите их, соберите схему валидации и отберите модели с помощью нее. Описание датасета по ссылке: https://archive.ics.uci.edu/ml/datasets/Drug+consumption+%28quantified%29"
   ]
  },
  {
   "cell_type": "markdown",
   "id": "1016aa4c",
   "metadata": {},
   "source": [
    "### Импорты"
   ]
  },
  {
   "cell_type": "code",
   "execution_count": 1,
   "id": "6d25a4f8",
   "metadata": {
    "ExecuteTime": {
     "end_time": "2023-03-06T11:39:12.995557Z",
     "start_time": "2023-03-06T11:39:10.703931Z"
    }
   },
   "outputs": [],
   "source": [
    "import pandas as pd\n",
    "import numpy as np\n",
    "import lightgbm as lgb\n",
    "import re\n",
    "import matplotlib.pyplot as plt\n",
    "import seaborn as sns\n",
    "from scipy import stats\n",
    "\n",
    "from sklearn.cluster import KMeans\n",
    "from sklearn.metrics import f1_score\n",
    "from sklearn.model_selection import cross_val_score\n",
    "\n",
    "from sklearn.dummy import DummyClassifier\n",
    "from sklearn.model_selection import train_test_split,RandomizedSearchCV\n",
    "from sklearn.metrics import classification_report\n",
    "from sklearn.metrics import precision_recall_fscore_support\n",
    "from sklearn.feature_selection import VarianceThreshold\n",
    "from sklearn.ensemble import RandomForestClassifier\n",
    "from sklearn.inspection import permutation_importance\n",
    "from sklearn.model_selection import StratifiedKFold\n",
    "from catboost import CatBoostClassifier\n",
    "from sklearn.model_selection import cross_val_score\n",
    "from sklearn.metrics import make_scorer, f1_score\n",
    "from sklearn.dummy import DummyClassifier\n",
    "\n",
    "import optuna\n",
    "import logging\n",
    "import warnings\n",
    "from sklearn.metrics import classification_report\n",
    "from tqdm import tqdm"
   ]
  },
  {
   "cell_type": "markdown",
   "id": "dbb51598",
   "metadata": {},
   "source": [
    "Глобальные переменные\n"
   ]
  },
  {
   "cell_type": "code",
   "execution_count": 2,
   "id": "f0164375",
   "metadata": {
    "ExecuteTime": {
     "end_time": "2023-03-06T11:39:13.010520Z",
     "start_time": "2023-03-06T11:39:12.997554Z"
    }
   },
   "outputs": [],
   "source": [
    "RANDOM_STATE = 12345"
   ]
  },
  {
   "cell_type": "markdown",
   "id": "44239599",
   "metadata": {},
   "source": [
    "### Загрузка данных"
   ]
  },
  {
   "cell_type": "code",
   "execution_count": 3,
   "id": "7a996c2f",
   "metadata": {
    "ExecuteTime": {
     "end_time": "2023-03-06T11:39:13.072461Z",
     "start_time": "2023-03-06T11:39:13.011517Z"
    }
   },
   "outputs": [
    {
     "data": {
      "text/html": [
       "<div>\n",
       "<style scoped>\n",
       "    .dataframe tbody tr th:only-of-type {\n",
       "        vertical-align: middle;\n",
       "    }\n",
       "\n",
       "    .dataframe tbody tr th {\n",
       "        vertical-align: top;\n",
       "    }\n",
       "\n",
       "    .dataframe thead th {\n",
       "        text-align: right;\n",
       "    }\n",
       "</style>\n",
       "<table border=\"1\" class=\"dataframe\">\n",
       "  <thead>\n",
       "    <tr style=\"text-align: right;\">\n",
       "      <th></th>\n",
       "      <th>1</th>\n",
       "      <th>2</th>\n",
       "      <th>3</th>\n",
       "      <th>4</th>\n",
       "      <th>5</th>\n",
       "      <th>6</th>\n",
       "      <th>7</th>\n",
       "      <th>8</th>\n",
       "      <th>9</th>\n",
       "      <th>10</th>\n",
       "      <th>...</th>\n",
       "      <th>22</th>\n",
       "      <th>23</th>\n",
       "      <th>24</th>\n",
       "      <th>25</th>\n",
       "      <th>26</th>\n",
       "      <th>27</th>\n",
       "      <th>28</th>\n",
       "      <th>29</th>\n",
       "      <th>30</th>\n",
       "      <th>31</th>\n",
       "    </tr>\n",
       "    <tr>\n",
       "      <th>0</th>\n",
       "      <th></th>\n",
       "      <th></th>\n",
       "      <th></th>\n",
       "      <th></th>\n",
       "      <th></th>\n",
       "      <th></th>\n",
       "      <th></th>\n",
       "      <th></th>\n",
       "      <th></th>\n",
       "      <th></th>\n",
       "      <th></th>\n",
       "      <th></th>\n",
       "      <th></th>\n",
       "      <th></th>\n",
       "      <th></th>\n",
       "      <th></th>\n",
       "      <th></th>\n",
       "      <th></th>\n",
       "      <th></th>\n",
       "      <th></th>\n",
       "      <th></th>\n",
       "    </tr>\n",
       "  </thead>\n",
       "  <tbody>\n",
       "    <tr>\n",
       "      <th>1</th>\n",
       "      <td>0.49788</td>\n",
       "      <td>0.48246</td>\n",
       "      <td>-0.05921</td>\n",
       "      <td>0.96082</td>\n",
       "      <td>0.12600</td>\n",
       "      <td>0.31287</td>\n",
       "      <td>-0.57545</td>\n",
       "      <td>-0.58331</td>\n",
       "      <td>-0.91699</td>\n",
       "      <td>-0.00665</td>\n",
       "      <td>...</td>\n",
       "      <td>CL0</td>\n",
       "      <td>CL0</td>\n",
       "      <td>CL0</td>\n",
       "      <td>CL0</td>\n",
       "      <td>CL0</td>\n",
       "      <td>CL0</td>\n",
       "      <td>CL0</td>\n",
       "      <td>CL2</td>\n",
       "      <td>CL0</td>\n",
       "      <td>CL0</td>\n",
       "    </tr>\n",
       "    <tr>\n",
       "      <th>2</th>\n",
       "      <td>-0.07854</td>\n",
       "      <td>-0.48246</td>\n",
       "      <td>1.98437</td>\n",
       "      <td>0.96082</td>\n",
       "      <td>-0.31685</td>\n",
       "      <td>-0.67825</td>\n",
       "      <td>1.93886</td>\n",
       "      <td>1.43533</td>\n",
       "      <td>0.76096</td>\n",
       "      <td>-0.14277</td>\n",
       "      <td>...</td>\n",
       "      <td>CL4</td>\n",
       "      <td>CL0</td>\n",
       "      <td>CL2</td>\n",
       "      <td>CL0</td>\n",
       "      <td>CL2</td>\n",
       "      <td>CL3</td>\n",
       "      <td>CL0</td>\n",
       "      <td>CL4</td>\n",
       "      <td>CL0</td>\n",
       "      <td>CL0</td>\n",
       "    </tr>\n",
       "    <tr>\n",
       "      <th>3</th>\n",
       "      <td>0.49788</td>\n",
       "      <td>-0.48246</td>\n",
       "      <td>-0.05921</td>\n",
       "      <td>0.96082</td>\n",
       "      <td>-0.31685</td>\n",
       "      <td>-0.46725</td>\n",
       "      <td>0.80523</td>\n",
       "      <td>-0.84732</td>\n",
       "      <td>-1.62090</td>\n",
       "      <td>-1.01450</td>\n",
       "      <td>...</td>\n",
       "      <td>CL0</td>\n",
       "      <td>CL0</td>\n",
       "      <td>CL0</td>\n",
       "      <td>CL0</td>\n",
       "      <td>CL0</td>\n",
       "      <td>CL0</td>\n",
       "      <td>CL1</td>\n",
       "      <td>CL0</td>\n",
       "      <td>CL0</td>\n",
       "      <td>CL0</td>\n",
       "    </tr>\n",
       "    <tr>\n",
       "      <th>4</th>\n",
       "      <td>-0.95197</td>\n",
       "      <td>0.48246</td>\n",
       "      <td>1.16365</td>\n",
       "      <td>0.96082</td>\n",
       "      <td>-0.31685</td>\n",
       "      <td>-0.14882</td>\n",
       "      <td>-0.80615</td>\n",
       "      <td>-0.01928</td>\n",
       "      <td>0.59042</td>\n",
       "      <td>0.58489</td>\n",
       "      <td>...</td>\n",
       "      <td>CL0</td>\n",
       "      <td>CL0</td>\n",
       "      <td>CL2</td>\n",
       "      <td>CL0</td>\n",
       "      <td>CL0</td>\n",
       "      <td>CL0</td>\n",
       "      <td>CL0</td>\n",
       "      <td>CL2</td>\n",
       "      <td>CL0</td>\n",
       "      <td>CL0</td>\n",
       "    </tr>\n",
       "    <tr>\n",
       "      <th>5</th>\n",
       "      <td>0.49788</td>\n",
       "      <td>0.48246</td>\n",
       "      <td>1.98437</td>\n",
       "      <td>0.96082</td>\n",
       "      <td>-0.31685</td>\n",
       "      <td>0.73545</td>\n",
       "      <td>-1.63340</td>\n",
       "      <td>-0.45174</td>\n",
       "      <td>-0.30172</td>\n",
       "      <td>1.30612</td>\n",
       "      <td>...</td>\n",
       "      <td>CL1</td>\n",
       "      <td>CL0</td>\n",
       "      <td>CL0</td>\n",
       "      <td>CL1</td>\n",
       "      <td>CL0</td>\n",
       "      <td>CL0</td>\n",
       "      <td>CL2</td>\n",
       "      <td>CL2</td>\n",
       "      <td>CL0</td>\n",
       "      <td>CL0</td>\n",
       "    </tr>\n",
       "  </tbody>\n",
       "</table>\n",
       "<p>5 rows × 31 columns</p>\n",
       "</div>"
      ],
      "text/plain": [
       "        1        2        3        4        5        6        7        8   \\\n",
       "0                                                                           \n",
       "1  0.49788  0.48246 -0.05921  0.96082  0.12600  0.31287 -0.57545 -0.58331   \n",
       "2 -0.07854 -0.48246  1.98437  0.96082 -0.31685 -0.67825  1.93886  1.43533   \n",
       "3  0.49788 -0.48246 -0.05921  0.96082 -0.31685 -0.46725  0.80523 -0.84732   \n",
       "4 -0.95197  0.48246  1.16365  0.96082 -0.31685 -0.14882 -0.80615 -0.01928   \n",
       "5  0.49788  0.48246  1.98437  0.96082 -0.31685  0.73545 -1.63340 -0.45174   \n",
       "\n",
       "        9        10  ...   22   23   24   25   26   27   28   29   30   31  \n",
       "0                    ...                                                    \n",
       "1 -0.91699 -0.00665  ...  CL0  CL0  CL0  CL0  CL0  CL0  CL0  CL2  CL0  CL0  \n",
       "2  0.76096 -0.14277  ...  CL4  CL0  CL2  CL0  CL2  CL3  CL0  CL4  CL0  CL0  \n",
       "3 -1.62090 -1.01450  ...  CL0  CL0  CL0  CL0  CL0  CL0  CL1  CL0  CL0  CL0  \n",
       "4  0.59042  0.58489  ...  CL0  CL0  CL2  CL0  CL0  CL0  CL0  CL2  CL0  CL0  \n",
       "5 -0.30172  1.30612  ...  CL1  CL0  CL0  CL1  CL0  CL0  CL2  CL2  CL0  CL0  \n",
       "\n",
       "[5 rows x 31 columns]"
      ]
     },
     "execution_count": 3,
     "metadata": {},
     "output_type": "execute_result"
    }
   ],
   "source": [
    "data = pd.read_csv('sberbank/drug_consumption.data', header=None, index_col=0)\n",
    "data.head()"
   ]
  },
  {
   "cell_type": "code",
   "execution_count": 4,
   "id": "b9b49f66",
   "metadata": {
    "ExecuteTime": {
     "end_time": "2023-03-06T11:39:13.103347Z",
     "start_time": "2023-03-06T11:39:13.073455Z"
    }
   },
   "outputs": [
    {
     "name": "stdout",
     "output_type": "stream",
     "text": [
      "(1885, 31)\n"
     ]
    },
    {
     "data": {
      "text/html": [
       "<div>\n",
       "<style scoped>\n",
       "    .dataframe tbody tr th:only-of-type {\n",
       "        vertical-align: middle;\n",
       "    }\n",
       "\n",
       "    .dataframe tbody tr th {\n",
       "        vertical-align: top;\n",
       "    }\n",
       "\n",
       "    .dataframe thead th {\n",
       "        text-align: right;\n",
       "    }\n",
       "</style>\n",
       "<table border=\"1\" class=\"dataframe\">\n",
       "  <thead>\n",
       "    <tr style=\"text-align: right;\">\n",
       "      <th></th>\n",
       "      <th>1</th>\n",
       "      <th>2</th>\n",
       "      <th>3</th>\n",
       "      <th>4</th>\n",
       "      <th>5</th>\n",
       "      <th>6</th>\n",
       "      <th>7</th>\n",
       "      <th>8</th>\n",
       "      <th>9</th>\n",
       "      <th>10</th>\n",
       "      <th>11</th>\n",
       "      <th>12</th>\n",
       "    </tr>\n",
       "  </thead>\n",
       "  <tbody>\n",
       "    <tr>\n",
       "      <th>count</th>\n",
       "      <td>1885.00000</td>\n",
       "      <td>1885.000000</td>\n",
       "      <td>1885.000000</td>\n",
       "      <td>1885.000000</td>\n",
       "      <td>1885.000000</td>\n",
       "      <td>1885.000000</td>\n",
       "      <td>1885.000000</td>\n",
       "      <td>1885.000000</td>\n",
       "      <td>1885.000000</td>\n",
       "      <td>1885.000000</td>\n",
       "      <td>1885.000000</td>\n",
       "      <td>1885.000000</td>\n",
       "    </tr>\n",
       "    <tr>\n",
       "      <th>mean</th>\n",
       "      <td>0.03461</td>\n",
       "      <td>-0.000256</td>\n",
       "      <td>-0.003806</td>\n",
       "      <td>0.355542</td>\n",
       "      <td>-0.309577</td>\n",
       "      <td>0.000047</td>\n",
       "      <td>-0.000163</td>\n",
       "      <td>-0.000534</td>\n",
       "      <td>-0.000245</td>\n",
       "      <td>-0.000386</td>\n",
       "      <td>0.007216</td>\n",
       "      <td>-0.003292</td>\n",
       "    </tr>\n",
       "    <tr>\n",
       "      <th>std</th>\n",
       "      <td>0.87836</td>\n",
       "      <td>0.482588</td>\n",
       "      <td>0.950078</td>\n",
       "      <td>0.700335</td>\n",
       "      <td>0.166226</td>\n",
       "      <td>0.998106</td>\n",
       "      <td>0.997448</td>\n",
       "      <td>0.996229</td>\n",
       "      <td>0.997440</td>\n",
       "      <td>0.997523</td>\n",
       "      <td>0.954435</td>\n",
       "      <td>0.963701</td>\n",
       "    </tr>\n",
       "    <tr>\n",
       "      <th>min</th>\n",
       "      <td>-0.95197</td>\n",
       "      <td>-0.482460</td>\n",
       "      <td>-2.435910</td>\n",
       "      <td>-0.570090</td>\n",
       "      <td>-1.107020</td>\n",
       "      <td>-3.464360</td>\n",
       "      <td>-3.273930</td>\n",
       "      <td>-3.273930</td>\n",
       "      <td>-3.464360</td>\n",
       "      <td>-3.464360</td>\n",
       "      <td>-2.555240</td>\n",
       "      <td>-2.078480</td>\n",
       "    </tr>\n",
       "    <tr>\n",
       "      <th>25%</th>\n",
       "      <td>-0.95197</td>\n",
       "      <td>-0.482460</td>\n",
       "      <td>-0.611130</td>\n",
       "      <td>-0.570090</td>\n",
       "      <td>-0.316850</td>\n",
       "      <td>-0.678250</td>\n",
       "      <td>-0.695090</td>\n",
       "      <td>-0.717270</td>\n",
       "      <td>-0.606330</td>\n",
       "      <td>-0.652530</td>\n",
       "      <td>-0.711260</td>\n",
       "      <td>-0.525930</td>\n",
       "    </tr>\n",
       "    <tr>\n",
       "      <th>50%</th>\n",
       "      <td>-0.07854</td>\n",
       "      <td>-0.482460</td>\n",
       "      <td>-0.059210</td>\n",
       "      <td>0.960820</td>\n",
       "      <td>-0.316850</td>\n",
       "      <td>0.042570</td>\n",
       "      <td>0.003320</td>\n",
       "      <td>-0.019280</td>\n",
       "      <td>-0.017290</td>\n",
       "      <td>-0.006650</td>\n",
       "      <td>-0.217120</td>\n",
       "      <td>0.079870</td>\n",
       "    </tr>\n",
       "    <tr>\n",
       "      <th>75%</th>\n",
       "      <td>0.49788</td>\n",
       "      <td>0.482460</td>\n",
       "      <td>0.454680</td>\n",
       "      <td>0.960820</td>\n",
       "      <td>-0.316850</td>\n",
       "      <td>0.629670</td>\n",
       "      <td>0.637790</td>\n",
       "      <td>0.723300</td>\n",
       "      <td>0.760960</td>\n",
       "      <td>0.584890</td>\n",
       "      <td>0.529750</td>\n",
       "      <td>0.765400</td>\n",
       "    </tr>\n",
       "    <tr>\n",
       "      <th>max</th>\n",
       "      <td>2.59171</td>\n",
       "      <td>0.482460</td>\n",
       "      <td>1.984370</td>\n",
       "      <td>0.960820</td>\n",
       "      <td>1.907250</td>\n",
       "      <td>3.273930</td>\n",
       "      <td>3.273930</td>\n",
       "      <td>2.901610</td>\n",
       "      <td>3.464360</td>\n",
       "      <td>3.464360</td>\n",
       "      <td>2.901610</td>\n",
       "      <td>1.921730</td>\n",
       "    </tr>\n",
       "  </tbody>\n",
       "</table>\n",
       "</div>"
      ],
      "text/plain": [
       "               1            2            3            4            5   \\\n",
       "count  1885.00000  1885.000000  1885.000000  1885.000000  1885.000000   \n",
       "mean      0.03461    -0.000256    -0.003806     0.355542    -0.309577   \n",
       "std       0.87836     0.482588     0.950078     0.700335     0.166226   \n",
       "min      -0.95197    -0.482460    -2.435910    -0.570090    -1.107020   \n",
       "25%      -0.95197    -0.482460    -0.611130    -0.570090    -0.316850   \n",
       "50%      -0.07854    -0.482460    -0.059210     0.960820    -0.316850   \n",
       "75%       0.49788     0.482460     0.454680     0.960820    -0.316850   \n",
       "max       2.59171     0.482460     1.984370     0.960820     1.907250   \n",
       "\n",
       "                6            7            8            9            10  \\\n",
       "count  1885.000000  1885.000000  1885.000000  1885.000000  1885.000000   \n",
       "mean      0.000047    -0.000163    -0.000534    -0.000245    -0.000386   \n",
       "std       0.998106     0.997448     0.996229     0.997440     0.997523   \n",
       "min      -3.464360    -3.273930    -3.273930    -3.464360    -3.464360   \n",
       "25%      -0.678250    -0.695090    -0.717270    -0.606330    -0.652530   \n",
       "50%       0.042570     0.003320    -0.019280    -0.017290    -0.006650   \n",
       "75%       0.629670     0.637790     0.723300     0.760960     0.584890   \n",
       "max       3.273930     3.273930     2.901610     3.464360     3.464360   \n",
       "\n",
       "                11           12  \n",
       "count  1885.000000  1885.000000  \n",
       "mean      0.007216    -0.003292  \n",
       "std       0.954435     0.963701  \n",
       "min      -2.555240    -2.078480  \n",
       "25%      -0.711260    -0.525930  \n",
       "50%      -0.217120     0.079870  \n",
       "75%       0.529750     0.765400  \n",
       "max       2.901610     1.921730  "
      ]
     },
     "metadata": {},
     "output_type": "display_data"
    }
   ],
   "source": [
    "print(data.shape)\n",
    "display(data.describe())"
   ]
  },
  {
   "cell_type": "markdown",
   "id": "1aca386b",
   "metadata": {},
   "source": [
    "Судя по описанию датасета по ссылке и тому что мы видим. наши данные нормализованы и являются категориальными\n",
    "\n",
    "Создадим словарь для работы с колонками"
   ]
  },
  {
   "cell_type": "code",
   "execution_count": 5,
   "id": "8015db5d",
   "metadata": {
    "ExecuteTime": {
     "end_time": "2023-03-06T11:39:13.118307Z",
     "start_time": "2023-03-06T11:39:13.104345Z"
    }
   },
   "outputs": [],
   "source": [
    "dict_cols = {1:'Age',2:'Gender',3:'Education',4:'Country',5:'Ethnicity',6:'Nscore',7:'Escore',8:'Oscore',9:'Ascore',10:'Cscore',\n",
    "             11:'Impulsive',12:'SS',13:'Alcohol ',14:'Amphet',15:'Amyl',16:'Benzos',17:'Caff',\n",
    "             18:'Cannabis',19:'Choc',20:'Coke',21:'Crack',22:'Ecstasy',23:'Heroin',24:'Ketamine',\n",
    "             25:'Legalh',26:'LSD',27:'Meth',28:'Mushrooms',29:'Nicotine',30:'Semer',31:'VSA'\n",
    "            }\n"
   ]
  },
  {
   "cell_type": "markdown",
   "id": "31e7d0d7",
   "metadata": {
    "ExecuteTime": {
     "end_time": "2023-02-27T07:07:21.925085Z",
     "start_time": "2023-02-27T07:07:21.916111Z"
    }
   },
   "source": [
    "\n",
    "\n",
    "### Предобработка"
   ]
  },
  {
   "cell_type": "code",
   "execution_count": 6,
   "id": "9db82172",
   "metadata": {
    "ExecuteTime": {
     "end_time": "2023-03-06T11:39:13.134265Z",
     "start_time": "2023-03-06T11:39:13.119305Z"
    }
   },
   "outputs": [],
   "source": [
    "def set_categorical(data,threshold=50):\n",
    "    '''\n",
    "    searching and setting column types to categorical\n",
    "    threshold - maximum number of distinct values to be considered as categorical\n",
    "    '''\n",
    "    for col in data.columns:\n",
    "        if data[col].nunique() <= threshold:\n",
    "            data[col]= data[col].astype('category')\n",
    "    return data"
   ]
  },
  {
   "cell_type": "code",
   "execution_count": 7,
   "id": "306df1f1",
   "metadata": {
    "ExecuteTime": {
     "end_time": "2023-03-06T11:39:13.165309Z",
     "start_time": "2023-03-06T11:39:13.136259Z"
    }
   },
   "outputs": [],
   "source": [
    "data=set_categorical(data)"
   ]
  },
  {
   "cell_type": "code",
   "execution_count": 8,
   "id": "4e124b86",
   "metadata": {
    "ExecuteTime": {
     "end_time": "2023-03-06T11:39:13.180174Z",
     "start_time": "2023-03-06T11:39:13.166295Z"
    }
   },
   "outputs": [],
   "source": [
    "def clean_from_nans_and_duplicates(df,threshold = 0.45):\n",
    "    '''\n",
    "    cleaning data from columns with nans()\n",
    "    threshold 0.45 was taken knowing that we cannot do anything with features\n",
    "    with more than 0.45 nans when we don't know what the column is about\n",
    "    \n",
    "    '''\n",
    "    \n",
    " \n",
    "\n",
    "    print(f'Number of columns with count of Nans more than {threshold} samples' ,len(df.isnull().mean().sort_values().loc[lambda x:x>threshold]))\n",
    "    df=df.drop(columns=df.isnull().mean().sort_values().loc[lambda x:x>threshold].index)\n",
    "    print(f'Number of columns with count of Nans more than {threshold} samples after deleting' ,len(df.isnull().mean().sort_values().loc[lambda x:x>threshold]))\n",
    "    \n",
    "    print('Number of duplicated samples within dataset:', len(df.loc[lambda x:x.duplicated()]))\n",
    "    \n",
    "    df=df.drop_duplicates()\n",
    "    print('Number of duplicated samples within dataset after dropping:', len(df.loc[lambda x:x.duplicated()]))\n",
    "    \n",
    "    return df\n",
    "\n",
    "\n",
    "def clean_from_constans(df):\n",
    "    '''\n",
    "    cleaning data from features that are all the same. But there should not \n",
    "    be NaNs inside. LGBM CLassifier probably would find some logic in it\n",
    "    '''\n",
    "    # Get the number of unique values for each feature\n",
    "    unique_counts = df[df.isnull().mean().sort_values().loc[lambda x:x==0].index].nunique()\n",
    "\n",
    "    # Get the names of the constant features\n",
    "    constant_feature_names = unique_counts[unique_counts == 1].index\n",
    "\n",
    "    # Print the names of the constant features\n",
    "    print(\"Constant features:\", constant_feature_names)\n",
    "    print('Shape of dataframe before deleting cosntant features:', df.shape)\n",
    "\n",
    "    # Remove the constant features from the training data\n",
    "    df = df.drop(columns=constant_feature_names)\n",
    "    \n",
    "    print('Shape of dataframe after deleting cosntant features:', df.shape)\n",
    "    \n",
    "    return df\n",
    "\n",
    "\n",
    "\n",
    "def clean_from_correlation(df,threshold=0.95):\n",
    "    '''\n",
    "    Function cleans data from highly correlated features\n",
    "    '''\n",
    "    \n",
    "    print(f'Shape of dataframe before deleting features with more than {threshold} correlation:',df.shape)\n",
    "    # Create correlation matrix\n",
    "    corr_matrix = df.corr().abs()\n",
    "\n",
    "    # Select upper triangle of correlation matrix\n",
    "    upper = corr_matrix.where(np.triu(np.ones(corr_matrix.shape), k=1).astype(bool))\n",
    "\n",
    "    # Find features with correlation greater than 0.95\n",
    "    to_drop = [column for column in upper.columns if any(upper[column] > threshold)]\n",
    "\n",
    "    # Drop features \n",
    "    df=df.drop(to_drop, axis=1)\n",
    "    \n",
    "    print(f'Shape of dataframe after deleting features with more than {threshold} correlation:',df.shape)\n",
    "        \n",
    "    return df"
   ]
  },
  {
   "cell_type": "code",
   "execution_count": 9,
   "id": "a740543c",
   "metadata": {
    "ExecuteTime": {
     "end_time": "2023-03-06T11:39:13.227007Z",
     "start_time": "2023-03-06T11:39:13.181158Z"
    }
   },
   "outputs": [
    {
     "name": "stdout",
     "output_type": "stream",
     "text": [
      "Number of columns with count of Nans more than 0.45 samples 0\n",
      "Number of columns with count of Nans more than 0.45 samples after deleting 0\n",
      "Number of duplicated samples within dataset: 0\n",
      "Number of duplicated samples within dataset after dropping: 0\n",
      "Constant features: Int64Index([], dtype='int64')\n",
      "Shape of dataframe before deleting cosntant features: (1885, 31)\n",
      "Shape of dataframe after deleting cosntant features: (1885, 31)\n",
      "Shape of dataframe before deleting features with more than 0.95 correlation: (1885, 31)\n",
      "Shape of dataframe after deleting features with more than 0.95 correlation: (1885, 31)\n"
     ]
    }
   ],
   "source": [
    "data=clean_from_nans_and_duplicates(data)\n",
    "data=clean_from_constans(data)\n",
    "data =clean_from_correlation(data)"
   ]
  },
  {
   "cell_type": "code",
   "execution_count": 10,
   "id": "fe22a052",
   "metadata": {
    "ExecuteTime": {
     "end_time": "2023-03-06T11:39:13.241968Z",
     "start_time": "2023-03-06T11:39:13.228005Z"
    }
   },
   "outputs": [
    {
     "name": "stdout",
     "output_type": "stream",
     "text": [
      "<class 'pandas.core.frame.DataFrame'>\n",
      "Int64Index: 1885 entries, 1 to 1888\n",
      "Data columns (total 31 columns):\n",
      " #   Column  Non-Null Count  Dtype   \n",
      "---  ------  --------------  -----   \n",
      " 0   1       1885 non-null   category\n",
      " 1   2       1885 non-null   category\n",
      " 2   3       1885 non-null   category\n",
      " 3   4       1885 non-null   category\n",
      " 4   5       1885 non-null   category\n",
      " 5   6       1885 non-null   category\n",
      " 6   7       1885 non-null   category\n",
      " 7   8       1885 non-null   category\n",
      " 8   9       1885 non-null   category\n",
      " 9   10      1885 non-null   category\n",
      " 10  11      1885 non-null   category\n",
      " 11  12      1885 non-null   category\n",
      " 12  13      1885 non-null   category\n",
      " 13  14      1885 non-null   category\n",
      " 14  15      1885 non-null   category\n",
      " 15  16      1885 non-null   category\n",
      " 16  17      1885 non-null   category\n",
      " 17  18      1885 non-null   category\n",
      " 18  19      1885 non-null   category\n",
      " 19  20      1885 non-null   category\n",
      " 20  21      1885 non-null   category\n",
      " 21  22      1885 non-null   category\n",
      " 22  23      1885 non-null   category\n",
      " 23  24      1885 non-null   category\n",
      " 24  25      1885 non-null   category\n",
      " 25  26      1885 non-null   category\n",
      " 26  27      1885 non-null   category\n",
      " 27  28      1885 non-null   category\n",
      " 28  29      1885 non-null   category\n",
      " 29  30      1885 non-null   category\n",
      " 30  31      1885 non-null   category\n",
      "dtypes: category(31)\n",
      "memory usage: 87.3 KB\n"
     ]
    }
   ],
   "source": [
    "data.info()"
   ]
  },
  {
   "cell_type": "markdown",
   "id": "3cf375a7",
   "metadata": {},
   "source": [
    "### EDA\n",
    "\n",
    "Проведем ускоренный анализ данных\n"
   ]
  },
  {
   "cell_type": "code",
   "execution_count": null,
   "id": "2fe5aff2",
   "metadata": {
    "ExecuteTime": {
     "end_time": "2023-03-06T11:30:25.479214Z",
     "start_time": "2023-03-06T11:30:25.469242Z"
    }
   },
   "outputs": [],
   "source": []
  },
  {
   "cell_type": "code",
   "execution_count": 11,
   "id": "629ad850",
   "metadata": {
    "ExecuteTime": {
     "end_time": "2023-03-06T11:39:17.300293Z",
     "start_time": "2023-03-06T11:39:13.242965Z"
    }
   },
   "outputs": [
    {
     "data": {
      "image/png": "[encoded data removed]",
      "text/plain": [
       "<Figure size 432x288 with 1 Axes>"
      ]
     },
     "metadata": {
      "needs_background": "light"
     },
     "output_type": "display_data"
    },
    {
     "data": {
      "image/png": "[encoded data removed]",
      "text/plain": [
       "<Figure size 432x288 with 1 Axes>"
      ]
     },
     "metadata": {
      "needs_background": "light"
     },
     "output_type": "display_data"
    },
    {
     "data": {
      "image/png": "[encoded data removed]",
      "text/plain": [
       "<Figure size 432x288 with 1 Axes>"
      ]
     },
     "metadata": {
      "needs_background": "light"
     },
     "output_type": "display_data"
    },
    {
     "data": {
      "image/png": "[encoded data removed]",
      "text/plain": [
       "<Figure size 432x288 with 1 Axes>"
      ]
     },
     "metadata": {
      "needs_background": "light"
     },
     "output_type": "display_data"
    },
    {
     "data": {
      "image/png": "[encoded data removed]",
      "text/plain": [
       "<Figure size 432x288 with 1 Axes>"
      ]
     },
     "metadata": {
      "needs_background": "light"
     },
     "output_type": "display_data"
    },
    {
     "data": {
      "image/png": "[encoded data removed]",
      "text/plain": [
       "<Figure size 432x288 with 1 Axes>"
      ]
     },
     "metadata": {
      "needs_background": "light"
     },
     "output_type": "display_data"
    },
    {
     "data": {
      "image/png": "[encoded data removed]",
      "text/plain": [
       "<Figure size 432x288 with 1 Axes>"
      ]
     },
     "metadata": {
      "needs_background": "light"
     },
     "output_type": "display_data"
    },
    {
     "data": {
      "image/png": "[encoded data removed]",
      "text/plain": [
       "<Figure size 432x288 with 1 Axes>"
      ]
     },
     "metadata": {
      "needs_background": "light"
     },
     "output_type": "display_data"
    },
    {
     "data": {
      "image/png": "[encoded data removed]",
      "text/plain": [
       "<Figure size 432x288 with 1 Axes>"
      ]
     },
     "metadata": {
      "needs_background": "light"
     },
     "output_type": "display_data"
    },
    {
     "data": {
      "image/png": "[encoded data removed]",
      "text/plain": [
       "<Figure size 432x288 with 1 Axes>"
      ]
     },
     "metadata": {
      "needs_background": "light"
     },
     "output_type": "display_data"
    },
    {
     "data": {
      "image/png": "[encoded data removed]",
      "text/plain": [
       "<Figure size 432x288 with 1 Axes>"
      ]
     },
     "metadata": {
      "needs_background": "light"
     },
     "output_type": "display_data"
    },
    {
     "data": {
      "image/png": "[encoded data removed]",
      "text/plain": [
       "<Figure size 432x288 with 1 Axes>"
      ]
     },
     "metadata": {
      "needs_background": "light"
     },
     "output_type": "display_data"
    },
    {
     "data": {
      "image/png": "[encoded data removed]",
      "text/plain": [
       "<Figure size 432x288 with 1 Axes>"
      ]
     },
     "metadata": {
      "needs_background": "light"
     },
     "output_type": "display_data"
    },
    {
     "data": {
      "image/png": "[encoded data removed]",
      "text/plain": [
       "<Figure size 432x288 with 1 Axes>"
      ]
     },
     "metadata": {
      "needs_background": "light"
     },
     "output_type": "display_data"
    },
    {
     "data": {
      "image/png": "[encoded data removed]",
      "text/plain": [
       "<Figure size 432x288 with 1 Axes>"
      ]
     },
     "metadata": {
      "needs_background": "light"
     },
     "output_type": "display_data"
    },
    {
     "data": {
      "image/png": "[encoded data removed]",
      "text/plain": [
       "<Figure size 432x288 with 1 Axes>"
      ]
     },
     "metadata": {
      "needs_background": "light"
     },
     "output_type": "display_data"
    },
    {
     "data": {
      "image/png": "[encoded data removed]",
      "text/plain": [
       "<Figure size 432x288 with 1 Axes>"
      ]
     },
     "metadata": {
      "needs_background": "light"
     },
     "output_type": "display_data"
    },
    {
     "data": {
      "image/png": "[encoded data removed]",
      "text/plain": [
       "<Figure size 432x288 with 1 Axes>"
      ]
     },
     "metadata": {
      "needs_background": "light"
     },
     "output_type": "display_data"
    },
    {
     "data": {
      "image/png": "[encoded data removed]",
      "text/plain": [
       "<Figure size 432x288 with 1 Axes>"
      ]
     },
     "metadata": {
      "needs_background": "light"
     },
     "output_type": "display_data"
    },
    {
     "data": {
      "image/png": "[encoded data removed]",
      "text/plain": [
       "<Figure size 432x288 with 1 Axes>"
      ]
     },
     "metadata": {
      "needs_background": "light"
     },
     "output_type": "display_data"
    },
    {
     "data": {
      "image/png": "[encoded data removed]",
      "text/plain": [
       "<Figure size 432x288 with 1 Axes>"
      ]
     },
     "metadata": {
      "needs_background": "light"
     },
     "output_type": "display_data"
    },
    {
     "data": {
      "image/png": "[encoded data removed]",
      "text/plain": [
       "<Figure size 432x288 with 1 Axes>"
      ]
     },
     "metadata": {
      "needs_background": "light"
     },
     "output_type": "display_data"
    },
    {
     "data": {
      "image/png": "[encoded data removed]",
      "text/plain": [
       "<Figure size 432x288 with 1 Axes>"
      ]
     },
     "metadata": {
      "needs_background": "light"
     },
     "output_type": "display_data"
    },
    {
     "data": {
      "image/png": "[encoded data removed]",
      "text/plain": [
       "<Figure size 432x288 with 1 Axes>"
      ]
     },
     "metadata": {
      "needs_background": "light"
     },
     "output_type": "display_data"
    },
    {
     "data": {
      "image/png": "[encoded data removed]",
      "text/plain": [
       "<Figure size 432x288 with 1 Axes>"
      ]
     },
     "metadata": {
      "needs_background": "light"
     },
     "output_type": "display_data"
    },
    {
     "data": {
      "image/png": "[encoded data removed]",
      "text/plain": [
       "<Figure size 432x288 with 1 Axes>"
      ]
     },
     "metadata": {
      "needs_background": "light"
     },
     "output_type": "display_data"
    },
    {
     "data": {
      "image/png": "[encoded data removed]",
      "text/plain": [
       "<Figure size 432x288 with 1 Axes>"
      ]
     },
     "metadata": {
      "needs_background": "light"
     },
     "output_type": "display_data"
    },
    {
     "data": {
      "image/png": "[encoded data removed]",
      "text/plain": [
       "<Figure size 432x288 with 1 Axes>"
      ]
     },
     "metadata": {
      "needs_background": "light"
     },
     "output_type": "display_data"
    },
    {
     "data": {
      "image/png": "[encoded data removed]",
      "text/plain": [
       "<Figure size 432x288 with 1 Axes>"
      ]
     },
     "metadata": {
      "needs_background": "light"
     },
     "output_type": "display_data"
    },
    {
     "data": {
      "image/png": "[encoded data removed]",
      "text/plain": [
       "<Figure size 432x288 with 1 Axes>"
      ]
     },
     "metadata": {
      "needs_background": "light"
     },
     "output_type": "display_data"
    },
    {
     "data": {
      "image/png": "[encoded data removed]",
      "text/plain": [
       "<Figure size 432x288 with 1 Axes>"
      ]
     },
     "metadata": {
      "needs_background": "light"
     },
     "output_type": "display_data"
    }
   ],
   "source": [
    "for col in data.columns:\n",
    "    \n",
    "    fig, ax = plt.subplots()\n",
    "    sns.histplot(data=data, x=col, ax=ax)\n",
    "    ax.set_title(dict_cols.get(col))\n",
    "    plt.show()"
   ]
  },
  {
   "cell_type": "markdown",
   "id": "6eaa1973",
   "metadata": {
    "ExecuteTime": {
     "end_time": "2023-03-06T11:22:38.888823Z",
     "start_time": "2023-03-06T11:22:38.718715Z"
    }
   },
   "source": [
    "Данные выглядят естетственно, что мы бы и ожидали в реальной жизни"
   ]
  },
  {
   "cell_type": "markdown",
   "id": "555e0e5c",
   "metadata": {},
   "source": [
    "### Обучение моделей"
   ]
  },
  {
   "cell_type": "code",
   "execution_count": 12,
   "id": "1925415d",
   "metadata": {
    "ExecuteTime": {
     "end_time": "2023-03-06T11:39:17.315253Z",
     "start_time": "2023-03-06T11:39:17.301291Z"
    }
   },
   "outputs": [],
   "source": [
    "model = lgb.LGBMClassifier(class_weight=\"balanced\", importance_type=\"gain\" ,cv=5,random_state= RANDOM_STATE,scoring=\"f1_macro\",\n",
    "        n_jobs=-1, objective = 'multiclass')\n",
    "\n",
    "#Lets try the same model for other\n",
    "X = data[[1,2,3,4,5,6,7,8,9,10,11,12]]\n",
    "y = data.drop(columns= X.columns)\n",
    "\n",
    "X_train, X_test, y_train, y_test = train_test_split(\n",
    "        X, y, test_size=0.2, random_state = RANDOM_STATE)\n",
    "\n",
    "\n",
    "\n",
    "\n",
    "model = lgb.LGBMClassifier(class_weight=\"balanced\", importance_type=\"gain\" ,cv=5,random_state= RANDOM_STATE,scoring=\"f1_macro\",\n",
    "        n_jobs=-1, objective = 'multiclass')\n",
    "\n",
    "X_train, X_test, y_train, y_test = train_test_split(\n",
    "        X, y, test_size=0.2,random_state = RANDOM_STATE) #stratify = y\n"
   ]
  },
  {
   "cell_type": "code",
   "execution_count": 13,
   "id": "cd9dda76",
   "metadata": {
    "ExecuteTime": {
     "end_time": "2023-03-06T11:39:21.475708Z",
     "start_time": "2023-03-06T11:39:17.316250Z"
    }
   },
   "outputs": [
    {
     "name": "stdout",
     "output_type": "stream",
     "text": [
      "\u001b[1m Alcohol  \u001b[0m\n",
      "Macro_f1: 0.1489356078376325\n",
      "              precision    recall  f1-score   support\n",
      "\n",
      "         CL0       0.00      0.00      0.00         5\n",
      "         CL1       0.11      0.20      0.14         5\n",
      "         CL2       0.00      0.00      0.00        15\n",
      "         CL3       0.09      0.08      0.08        37\n",
      "         CL4       0.15      0.17      0.16        60\n",
      "         CL5       0.41      0.39      0.40       157\n",
      "         CL6       0.26      0.26      0.26        98\n",
      "\n",
      "    accuracy                           0.27       377\n",
      "   macro avg       0.14      0.16      0.15       377\n",
      "weighted avg       0.27      0.27      0.27       377\n",
      "\n",
      "\u001b[1m Amphet \u001b[0m\n",
      "Macro_f1: 0.23006469938040025\n",
      "              precision    recall  f1-score   support\n",
      "\n",
      "         CL0       0.68      0.56      0.61       187\n",
      "         CL1       0.36      0.41      0.38        54\n",
      "         CL2       0.18      0.23      0.20        43\n",
      "         CL3       0.18      0.19      0.18        48\n",
      "         CL4       0.07      0.05      0.06        19\n",
      "         CL5       0.06      0.10      0.07        10\n",
      "         CL6       0.08      0.12      0.10        16\n",
      "\n",
      "    accuracy                           0.40       377\n",
      "   macro avg       0.23      0.24      0.23       377\n",
      "weighted avg       0.44      0.40      0.41       377\n",
      "\n",
      "\u001b[1m Amyl \u001b[0m\n",
      "Macro_f1: 0.205842048880225\n"
     ]
    },
    {
     "name": "stderr",
     "output_type": "stream",
     "text": [
      "C:\\Users\\Admin\\anaconda3\\lib\\site-packages\\sklearn\\metrics\\_classification.py:1245: UndefinedMetricWarning: Precision and F-score are ill-defined and being set to 0.0 in labels with no predicted samples. Use `zero_division` parameter to control this behavior.\n",
      "  _warn_prf(average, modifier, msg_start, len(result))\n",
      "C:\\Users\\Admin\\anaconda3\\lib\\site-packages\\sklearn\\metrics\\_classification.py:1245: UndefinedMetricWarning: Precision and F-score are ill-defined and being set to 0.0 in labels with no predicted samples. Use `zero_division` parameter to control this behavior.\n",
      "  _warn_prf(average, modifier, msg_start, len(result))\n",
      "C:\\Users\\Admin\\anaconda3\\lib\\site-packages\\sklearn\\metrics\\_classification.py:1245: UndefinedMetricWarning: Precision and F-score are ill-defined and being set to 0.0 in labels with no predicted samples. Use `zero_division` parameter to control this behavior.\n",
      "  _warn_prf(average, modifier, msg_start, len(result))\n"
     ]
    },
    {
     "name": "stdout",
     "output_type": "stream",
     "text": [
      "              precision    recall  f1-score   support\n",
      "\n",
      "         CL0       0.75      0.72      0.73       255\n",
      "         CL1       0.29      0.33      0.31        48\n",
      "         CL2       0.28      0.24      0.26        46\n",
      "         CL3       0.13      0.16      0.14        19\n",
      "         CL4       0.00      0.00      0.00         3\n",
      "         CL5       0.00      0.00      0.00         3\n",
      "         CL6       0.00      0.00      0.00         3\n",
      "\n",
      "    accuracy                           0.57       377\n",
      "   macro avg       0.21      0.21      0.21       377\n",
      "weighted avg       0.58      0.57      0.57       377\n",
      "\n",
      "\u001b[1m Benzos \u001b[0m\n",
      "Macro_f1: 0.2311000777593597\n",
      "              precision    recall  f1-score   support\n",
      "\n",
      "         CL0       0.69      0.54      0.61       206\n",
      "         CL1       0.08      0.07      0.08        28\n",
      "         CL2       0.14      0.26      0.18        38\n",
      "         CL3       0.15      0.15      0.15        48\n",
      "         CL4       0.15      0.19      0.17        21\n",
      "         CL5       0.06      0.07      0.06        14\n",
      "         CL6       0.35      0.41      0.38        22\n",
      "\n",
      "    accuracy                           0.38       377\n",
      "   macro avg       0.23      0.24      0.23       377\n",
      "weighted avg       0.45      0.38      0.41       377\n",
      "\n",
      "\u001b[1m Caff \u001b[0m\n",
      "Macro_f1: 0.12727272727272726\n",
      "              precision    recall  f1-score   support\n",
      "\n",
      "         CL0       0.00      0.00      0.00         5\n",
      "         CL1       0.00      0.00      0.00         4\n",
      "         CL2       0.00      0.00      0.00         3\n",
      "         CL3       0.00      0.00      0.00        13\n",
      "         CL4       0.00      0.00      0.00        25\n",
      "         CL5       0.12      0.23      0.16        44\n",
      "         CL6       0.75      0.71      0.73       283\n",
      "\n",
      "    accuracy                           0.56       377\n",
      "   macro avg       0.13      0.13      0.13       377\n",
      "weighted avg       0.58      0.56      0.57       377\n",
      "\n",
      "\u001b[1m Cannabis \u001b[0m\n",
      "Macro_f1: 0.2870905256697308\n",
      "              precision    recall  f1-score   support\n",
      "\n",
      "         CL0       0.49      0.58      0.53        78\n",
      "         CL1       0.22      0.20      0.21        40\n",
      "         CL2       0.20      0.19      0.20        48\n",
      "         CL3       0.18      0.25      0.21        36\n",
      "         CL4       0.21      0.19      0.20        31\n",
      "         CL5       0.17      0.12      0.14        42\n",
      "         CL6       0.53      0.51      0.52       102\n",
      "\n",
      "    accuracy                           0.36       377\n",
      "   macro avg       0.29      0.29      0.29       377\n",
      "weighted avg       0.35      0.36      0.35       377\n",
      "\n",
      "\u001b[1m Choc \u001b[0m\n",
      "Macro_f1: 0.1560696402767176\n"
     ]
    },
    {
     "name": "stderr",
     "output_type": "stream",
     "text": [
      "C:\\Users\\Admin\\anaconda3\\lib\\site-packages\\sklearn\\metrics\\_classification.py:1245: UndefinedMetricWarning: Precision and F-score are ill-defined and being set to 0.0 in labels with no predicted samples. Use `zero_division` parameter to control this behavior.\n",
      "  _warn_prf(average, modifier, msg_start, len(result))\n",
      "C:\\Users\\Admin\\anaconda3\\lib\\site-packages\\sklearn\\metrics\\_classification.py:1245: UndefinedMetricWarning: Precision and F-score are ill-defined and being set to 0.0 in labels with no predicted samples. Use `zero_division` parameter to control this behavior.\n",
      "  _warn_prf(average, modifier, msg_start, len(result))\n",
      "C:\\Users\\Admin\\anaconda3\\lib\\site-packages\\sklearn\\metrics\\_classification.py:1245: UndefinedMetricWarning: Precision and F-score are ill-defined and being set to 0.0 in labels with no predicted samples. Use `zero_division` parameter to control this behavior.\n",
      "  _warn_prf(average, modifier, msg_start, len(result))\n"
     ]
    },
    {
     "name": "stdout",
     "output_type": "stream",
     "text": [
      "              precision    recall  f1-score   support\n",
      "\n",
      "         CL0       0.00      0.00      0.00         7\n",
      "         CL1       0.00      0.00      0.00         1\n",
      "         CL2       0.00      0.00      0.00         2\n",
      "         CL3       0.00      0.00      0.00        10\n",
      "         CL4       0.24      0.35      0.28        48\n",
      "         CL5       0.35      0.34      0.34       137\n",
      "         CL6       0.49      0.44      0.46       172\n",
      "\n",
      "    accuracy                           0.37       377\n",
      "   macro avg       0.15      0.16      0.16       377\n",
      "weighted avg       0.38      0.37      0.37       377\n",
      "\n",
      "\u001b[1m Coke \u001b[0m\n",
      "Macro_f1: 0.25044406629678273\n",
      "              precision    recall  f1-score   support\n",
      "\n",
      "         CL0       0.74      0.58      0.65       209\n",
      "         CL1       0.34      0.44      0.39        36\n",
      "         CL2       0.33      0.35      0.34        54\n",
      "         CL3       0.21      0.29      0.24        48\n",
      "         CL4       0.12      0.15      0.14        20\n",
      "         CL5       0.00      0.00      0.00         9\n",
      "         CL6       0.00      0.00      0.00         1\n",
      "\n",
      "    accuracy                           0.46       377\n",
      "   macro avg       0.25      0.26      0.25       377\n",
      "weighted avg       0.52      0.46      0.48       377\n",
      "\n",
      "\u001b[1m Crack \u001b[0m\n",
      "Macro_f1: 0.1445535276726139\n",
      "              precision    recall  f1-score   support\n",
      "\n",
      "         CL0       0.86      0.88      0.87       320\n",
      "         CL1       0.00      0.00      0.00        18\n",
      "         CL2       0.14      0.15      0.15        20\n",
      "         CL3       0.00      0.00      0.00        15\n",
      "         CL4       0.00      0.00      0.00         2\n",
      "         CL5       0.00      0.00      0.00         1\n",
      "         CL6       0.00      0.00      0.00         1\n",
      "\n",
      "    accuracy                           0.75       377\n",
      "   macro avg       0.14      0.15      0.14       377\n",
      "weighted avg       0.73      0.75      0.74       377\n",
      "\n",
      "\u001b[1m Ecstasy \u001b[0m\n"
     ]
    },
    {
     "name": "stderr",
     "output_type": "stream",
     "text": [
      "C:\\Users\\Admin\\anaconda3\\lib\\site-packages\\sklearn\\metrics\\_classification.py:1245: UndefinedMetricWarning: Precision and F-score are ill-defined and being set to 0.0 in labels with no predicted samples. Use `zero_division` parameter to control this behavior.\n",
      "  _warn_prf(average, modifier, msg_start, len(result))\n",
      "C:\\Users\\Admin\\anaconda3\\lib\\site-packages\\sklearn\\metrics\\_classification.py:1245: UndefinedMetricWarning: Precision and F-score are ill-defined and being set to 0.0 in labels with no predicted samples. Use `zero_division` parameter to control this behavior.\n",
      "  _warn_prf(average, modifier, msg_start, len(result))\n",
      "C:\\Users\\Admin\\anaconda3\\lib\\site-packages\\sklearn\\metrics\\_classification.py:1245: UndefinedMetricWarning: Precision and F-score are ill-defined and being set to 0.0 in labels with no predicted samples. Use `zero_division` parameter to control this behavior.\n",
      "  _warn_prf(average, modifier, msg_start, len(result))\n"
     ]
    },
    {
     "name": "stdout",
     "output_type": "stream",
     "text": [
      "Macro_f1: 0.2096795731429511\n",
      "              precision    recall  f1-score   support\n",
      "\n",
      "         CL0       0.79      0.60      0.68       213\n",
      "         CL1       0.10      0.19      0.13        16\n",
      "         CL2       0.19      0.20      0.19        51\n",
      "         CL3       0.22      0.34      0.27        50\n",
      "         CL4       0.16      0.24      0.19        25\n",
      "         CL5       0.00      0.00      0.00        16\n",
      "         CL6       0.00      0.00      0.00         6\n",
      "\n",
      "    accuracy                           0.44       377\n",
      "   macro avg       0.21      0.22      0.21       377\n",
      "weighted avg       0.51      0.44      0.46       377\n",
      "\n",
      "\u001b[1m Heroin \u001b[0m\n",
      "Macro_f1: 0.21414170723581688\n",
      "              precision    recall  f1-score   support\n",
      "\n",
      "         CL0       0.88      0.88      0.88       316\n",
      "         CL1       0.29      0.26      0.28        19\n",
      "         CL2       0.13      0.15      0.14        13\n",
      "         CL3       0.18      0.23      0.20        13\n",
      "         CL4       0.00      0.00      0.00         8\n",
      "         CL5       0.00      0.00      0.00         4\n",
      "         CL6       0.00      0.00      0.00         4\n",
      "\n",
      "    accuracy                           0.76       377\n",
      "   macro avg       0.21      0.22      0.21       377\n",
      "weighted avg       0.76      0.76      0.76       377\n",
      "\n",
      "\u001b[1m Ketamine \u001b[0m\n",
      "Macro_f1: 0.2041521649033447\n",
      "              precision    recall  f1-score   support\n",
      "\n",
      "         CL0       0.86      0.79      0.82       303\n",
      "         CL1       1.00      0.17      0.29        12\n",
      "         CL2       0.09      0.12      0.10        26\n",
      "         CL3       0.09      0.17      0.11        24\n",
      "         CL4       0.00      0.00      0.00         4\n",
      "         CL5       0.08      0.14      0.11         7\n",
      "         CL6       0.00      0.00      0.00         1\n",
      "\n",
      "    accuracy                           0.66       377\n",
      "   macro avg       0.30      0.20      0.20       377\n",
      "weighted avg       0.74      0.66      0.69       377\n",
      "\n",
      "\u001b[1m Legalh \u001b[0m\n",
      "Macro_f1: 0.22888806303872444\n",
      "              precision    recall  f1-score   support\n",
      "\n",
      "         CL0       0.79      0.75      0.77       209\n",
      "         CL1       0.00      0.00      0.00         6\n",
      "         CL2       0.17      0.19      0.18        42\n",
      "         CL3       0.33      0.33      0.33        70\n",
      "         CL4       0.10      0.12      0.11        25\n",
      "         CL5       0.15      0.13      0.14        15\n",
      "         CL6       0.06      0.10      0.07        10\n",
      "\n",
      "    accuracy                           0.51       377\n",
      "   macro avg       0.23      0.23      0.23       377\n",
      "weighted avg       0.53      0.51      0.52       377\n",
      "\n",
      "\u001b[1m LSD \u001b[0m\n",
      "Macro_f1: 0.2791843857494526\n",
      "              precision    recall  f1-score   support\n",
      "\n",
      "         CL0       0.76      0.62      0.68       208\n",
      "         CL1       0.43      0.50      0.46        58\n",
      "         CL2       0.19      0.19      0.19        37\n",
      "         CL3       0.24      0.44      0.31        36\n",
      "         CL4       0.28      0.20      0.23        25\n",
      "         CL5       0.07      0.10      0.08        10\n",
      "         CL6       0.00      0.00      0.00         3\n",
      "\n",
      "    accuracy                           0.49       377\n",
      "   macro avg       0.28      0.29      0.28       377\n",
      "weighted avg       0.55      0.49      0.51       377\n",
      "\n",
      "\u001b[1m Meth \u001b[0m\n",
      "Macro_f1: 0.22535531136188788\n",
      "              precision    recall  f1-score   support\n",
      "\n",
      "         CL0       0.86      0.78      0.82       288\n",
      "         CL1       0.25      0.11      0.15         9\n",
      "         CL2       0.11      0.20      0.15        20\n",
      "         CL3       0.25      0.29      0.27        34\n",
      "         CL4       0.12      0.11      0.12         9\n",
      "         CL5       0.00      0.00      0.00         4\n",
      "         CL6       0.07      0.08      0.07        13\n",
      "\n",
      "    accuracy                           0.64       377\n",
      "   macro avg       0.24      0.23      0.23       377\n",
      "weighted avg       0.69      0.64      0.67       377\n",
      "\n",
      "\u001b[1m Mushrooms \u001b[0m\n",
      "Macro_f1: 0.21568406735060167\n",
      "              precision    recall  f1-score   support\n",
      "\n",
      "         CL0       0.73      0.59      0.65       184\n",
      "         CL1       0.26      0.25      0.26        48\n",
      "         CL2       0.20      0.28      0.23        47\n",
      "         CL3       0.20      0.25      0.22        57\n",
      "         CL4       0.14      0.16      0.15        32\n",
      "         CL5       0.00      0.00      0.00         8\n",
      "         CL6       0.00      0.00      0.00         1\n",
      "\n",
      "    accuracy                           0.41       377\n",
      "   macro avg       0.22      0.22      0.22       377\n",
      "weighted avg       0.46      0.41      0.43       377\n",
      "\n",
      "\u001b[1m Nicotine \u001b[0m\n"
     ]
    },
    {
     "name": "stderr",
     "output_type": "stream",
     "text": [
      "C:\\Users\\Admin\\anaconda3\\lib\\site-packages\\sklearn\\metrics\\_classification.py:1245: UndefinedMetricWarning: Precision and F-score are ill-defined and being set to 0.0 in labels with no predicted samples. Use `zero_division` parameter to control this behavior.\n",
      "  _warn_prf(average, modifier, msg_start, len(result))\n",
      "C:\\Users\\Admin\\anaconda3\\lib\\site-packages\\sklearn\\metrics\\_classification.py:1245: UndefinedMetricWarning: Precision and F-score are ill-defined and being set to 0.0 in labels with no predicted samples. Use `zero_division` parameter to control this behavior.\n",
      "  _warn_prf(average, modifier, msg_start, len(result))\n",
      "C:\\Users\\Admin\\anaconda3\\lib\\site-packages\\sklearn\\metrics\\_classification.py:1245: UndefinedMetricWarning: Precision and F-score are ill-defined and being set to 0.0 in labels with no predicted samples. Use `zero_division` parameter to control this behavior.\n",
      "  _warn_prf(average, modifier, msg_start, len(result))\n"
     ]
    },
    {
     "name": "stdout",
     "output_type": "stream",
     "text": [
      "Macro_f1: 0.20728501727463108\n",
      "              precision    recall  f1-score   support\n",
      "\n",
      "         CL0       0.41      0.40      0.41        89\n",
      "         CL1       0.21      0.30      0.25        37\n",
      "         CL2       0.11      0.11      0.11        36\n",
      "         CL3       0.09      0.09      0.09        34\n",
      "         CL4       0.15      0.09      0.11        22\n",
      "         CL5       0.08      0.08      0.08        37\n",
      "         CL6       0.41      0.39      0.40       122\n",
      "\n",
      "    accuracy                           0.28       377\n",
      "   macro avg       0.21      0.21      0.21       377\n",
      "weighted avg       0.29      0.28      0.28       377\n",
      "\n",
      "\u001b[1m Semer \u001b[0m\n",
      "Macro_f1: 1.0\n",
      "              precision    recall  f1-score   support\n",
      "\n",
      "         CL0       1.00      1.00      1.00       377\n",
      "\n",
      "    accuracy                           1.00       377\n",
      "   macro avg       1.00      1.00      1.00       377\n",
      "weighted avg       1.00      1.00      1.00       377\n",
      "\n",
      "\u001b[1m VSA \u001b[0m\n",
      "Macro_f1: 0.1748684600182893\n",
      "              precision    recall  f1-score   support\n",
      "\n",
      "         CL0       0.78      0.80      0.79       286\n",
      "         CL1       0.29      0.23      0.26        43\n",
      "         CL2       0.08      0.12      0.10        26\n",
      "         CL3       0.09      0.07      0.08        14\n",
      "         CL4       0.00      0.00      0.00         4\n",
      "         CL5       0.00      0.00      0.00         3\n",
      "         CL6       0.00      0.00      0.00         1\n",
      "\n",
      "    accuracy                           0.64       377\n",
      "   macro avg       0.18      0.17      0.17       377\n",
      "weighted avg       0.63      0.64      0.64       377\n",
      "\n"
     ]
    },
    {
     "name": "stderr",
     "output_type": "stream",
     "text": [
      "C:\\Users\\Admin\\anaconda3\\lib\\site-packages\\sklearn\\metrics\\_classification.py:1245: UndefinedMetricWarning: Precision and F-score are ill-defined and being set to 0.0 in labels with no predicted samples. Use `zero_division` parameter to control this behavior.\n",
      "  _warn_prf(average, modifier, msg_start, len(result))\n",
      "C:\\Users\\Admin\\anaconda3\\lib\\site-packages\\sklearn\\metrics\\_classification.py:1245: UndefinedMetricWarning: Precision and F-score are ill-defined and being set to 0.0 in labels with no predicted samples. Use `zero_division` parameter to control this behavior.\n",
      "  _warn_prf(average, modifier, msg_start, len(result))\n",
      "C:\\Users\\Admin\\anaconda3\\lib\\site-packages\\sklearn\\metrics\\_classification.py:1245: UndefinedMetricWarning: Precision and F-score are ill-defined and being set to 0.0 in labels with no predicted samples. Use `zero_division` parameter to control this behavior.\n",
      "  _warn_prf(average, modifier, msg_start, len(result))\n"
     ]
    }
   ],
   "source": [
    "for col in y.columns:\n",
    "    print('\\033[1m', dict_cols.get(col),'\\033[0m')\n",
    "    \n",
    "    y_train_ = y_train[col].copy()\n",
    "    y_test_=y_test[col].copy()\n",
    "    model.fit(X_train,y_train_)\n",
    "    y_pred_=model.predict(X_test)\n",
    "    macro_f1 = f1_score(y_test_, y_pred_, average='macro')\n",
    "    print('Macro_f1:',macro_f1)\n",
    "    print(classification_report(y_test_, y_pred_))"
   ]
  },
  {
   "cell_type": "markdown",
   "id": "945c8cc5",
   "metadata": {},
   "source": [
    "Как видно, классы везде разбалансированы. Свдем задачу к бинарной классификации"
   ]
  },
  {
   "cell_type": "markdown",
   "id": "d178ef9a",
   "metadata": {},
   "source": [
    "#### Бинарная классификация\n",
    "\n",
    "\n",
    "CL0 Never Used \n",
    "\n",
    "CL1 Used over a Decade Ago\n",
    "\n",
    "CL2 Used in Last Decade \n",
    "\n",
    "CL3 Used in Last Year \n",
    "\n",
    "CL4 Used in Last Month \n",
    "\n",
    "CL5 Used in Last Week \n",
    "\n",
    "CL6 Used in Last Day"
   ]
  },
  {
   "cell_type": "code",
   "execution_count": 14,
   "id": "662de591",
   "metadata": {
    "ExecuteTime": {
     "end_time": "2023-03-06T11:39:21.490667Z",
     "start_time": "2023-03-06T11:39:21.476705Z"
    }
   },
   "outputs": [],
   "source": [
    "dict_binary = {'CL0':0,'CL1':1,'CL2':2,'CL3':3,'CL4':4,'CL5':5,'CL6':6}\n",
    "target_columns = [_ for _ in range(13,32)]"
   ]
  },
  {
   "cell_type": "code",
   "execution_count": 15,
   "id": "7135d2af",
   "metadata": {
    "ExecuteTime": {
     "end_time": "2023-03-06T11:39:21.535550Z",
     "start_time": "2023-03-06T11:39:21.492662Z"
    }
   },
   "outputs": [],
   "source": [
    "def translate_to_binary(data,target_columns,dict_binary):\n",
    "    df=data.copy()\n",
    "    for col in target_columns:\n",
    "        df[col] = df[col].map(dict_binary)\n",
    "     \n",
    "        df[col] = df[col].apply(lambda x: 0 if x in (0,1) else 1)\n",
    "    return df"
   ]
  },
  {
   "cell_type": "code",
   "execution_count": 16,
   "id": "12220acc",
   "metadata": {
    "ExecuteTime": {
     "end_time": "2023-03-06T11:39:21.567332Z",
     "start_time": "2023-03-06T11:39:21.537545Z"
    }
   },
   "outputs": [],
   "source": [
    "data_binary=translate_to_binary(data,target_columns,dict_binary)"
   ]
  },
  {
   "cell_type": "code",
   "execution_count": 17,
   "id": "e40172cf",
   "metadata": {
    "ExecuteTime": {
     "end_time": "2023-03-06T11:39:21.582294Z",
     "start_time": "2023-03-06T11:39:21.568331Z"
    }
   },
   "outputs": [
    {
     "data": {
      "text/plain": [
       "[13, 14, 15, 16, 17, 18, 19, 20, 21, 22, 23, 24, 25, 26, 27, 28, 29, 30, 31]"
      ]
     },
     "execution_count": 17,
     "metadata": {},
     "output_type": "execute_result"
    }
   ],
   "source": [
    "drug_columns = [_ for _ in range(13,32)]\n",
    "drug_columns"
   ]
  },
  {
   "cell_type": "code",
   "execution_count": 18,
   "id": "0acf0f79",
   "metadata": {
    "ExecuteTime": {
     "end_time": "2023-03-06T11:39:21.597254Z",
     "start_time": "2023-03-06T11:39:21.583291Z"
    }
   },
   "outputs": [],
   "source": [
    "model = lgb.LGBMClassifier(class_weight=\"balanced\", importance_type=\"gain\" ,cv=5,random_state= RANDOM_STATE,scoring=\"f1\",\n",
    "        n_jobs=-1, objective = 'binary')"
   ]
  },
  {
   "cell_type": "markdown",
   "id": "d4ce8c27",
   "metadata": {},
   "source": [
    "Возьмем метрику f1-macro weighted т.к. у нас классы разбалансированы. "
   ]
  },
  {
   "cell_type": "code",
   "execution_count": 19,
   "id": "1ce1f818",
   "metadata": {
    "ExecuteTime": {
     "end_time": "2023-03-06T11:39:28.908578Z",
     "start_time": "2023-03-06T11:39:21.598252Z"
    }
   },
   "outputs": [
    {
     "name": "stderr",
     "output_type": "stream",
     "text": [
      "100%|██████████████████████████████████████████████████████████████████████████████████| 19/19 [00:07<00:00,  2.61it/s]\n"
     ]
    },
    {
     "data": {
      "text/html": [
       "<div>\n",
       "<style scoped>\n",
       "    .dataframe tbody tr th:only-of-type {\n",
       "        vertical-align: middle;\n",
       "    }\n",
       "\n",
       "    .dataframe tbody tr th {\n",
       "        vertical-align: top;\n",
       "    }\n",
       "\n",
       "    .dataframe thead th {\n",
       "        text-align: right;\n",
       "    }\n",
       "</style>\n",
       "<table border=\"1\" class=\"dataframe\">\n",
       "  <thead>\n",
       "    <tr style=\"text-align: right;\">\n",
       "      <th></th>\n",
       "      <th>drug</th>\n",
       "      <th>cross_val_mean</th>\n",
       "      <th>f1_test</th>\n",
       "      <th>dummys</th>\n",
       "    </tr>\n",
       "  </thead>\n",
       "  <tbody>\n",
       "    <tr>\n",
       "      <th>0</th>\n",
       "      <td>Alcohol</td>\n",
       "      <td>0.943463</td>\n",
       "      <td>0.965193</td>\n",
       "      <td>0.941470</td>\n",
       "    </tr>\n",
       "    <tr>\n",
       "      <th>1</th>\n",
       "      <td>Amphet</td>\n",
       "      <td>0.814623</td>\n",
       "      <td>0.817356</td>\n",
       "      <td>0.521925</td>\n",
       "    </tr>\n",
       "    <tr>\n",
       "      <th>2</th>\n",
       "      <td>Amyl</td>\n",
       "      <td>0.821702</td>\n",
       "      <td>0.825845</td>\n",
       "      <td>0.662245</td>\n",
       "    </tr>\n",
       "    <tr>\n",
       "      <th>3</th>\n",
       "      <td>Benzos</td>\n",
       "      <td>0.779709</td>\n",
       "      <td>0.760823</td>\n",
       "      <td>0.474801</td>\n",
       "    </tr>\n",
       "    <tr>\n",
       "      <th>4</th>\n",
       "      <td>Caff</td>\n",
       "      <td>0.966580</td>\n",
       "      <td>0.962865</td>\n",
       "      <td>0.978709</td>\n",
       "    </tr>\n",
       "    <tr>\n",
       "      <th>5</th>\n",
       "      <td>Cannabis</td>\n",
       "      <td>0.863673</td>\n",
       "      <td>0.855198</td>\n",
       "      <td>0.576233</td>\n",
       "    </tr>\n",
       "    <tr>\n",
       "      <th>6</th>\n",
       "      <td>Choc</td>\n",
       "      <td>0.968238</td>\n",
       "      <td>0.986652</td>\n",
       "      <td>0.978709</td>\n",
       "    </tr>\n",
       "    <tr>\n",
       "      <th>7</th>\n",
       "      <td>Coke</td>\n",
       "      <td>0.841955</td>\n",
       "      <td>0.837378</td>\n",
       "      <td>0.558105</td>\n",
       "    </tr>\n",
       "    <tr>\n",
       "      <th>8</th>\n",
       "      <td>Crack</td>\n",
       "      <td>0.888371</td>\n",
       "      <td>0.891771</td>\n",
       "      <td>0.812788</td>\n",
       "    </tr>\n",
       "    <tr>\n",
       "      <th>9</th>\n",
       "      <td>Ecstasy</td>\n",
       "      <td>0.861508</td>\n",
       "      <td>0.858914</td>\n",
       "      <td>0.485411</td>\n",
       "    </tr>\n",
       "    <tr>\n",
       "      <th>10</th>\n",
       "      <td>Heroin</td>\n",
       "      <td>0.910630</td>\n",
       "      <td>0.884424</td>\n",
       "      <td>0.801725</td>\n",
       "    </tr>\n",
       "    <tr>\n",
       "      <th>11</th>\n",
       "      <td>Ketamine</td>\n",
       "      <td>0.835428</td>\n",
       "      <td>0.829929</td>\n",
       "      <td>0.697558</td>\n",
       "    </tr>\n",
       "    <tr>\n",
       "      <th>12</th>\n",
       "      <td>Legalh</td>\n",
       "      <td>0.813215</td>\n",
       "      <td>0.823784</td>\n",
       "      <td>0.482487</td>\n",
       "    </tr>\n",
       "    <tr>\n",
       "      <th>13</th>\n",
       "      <td>LSD</td>\n",
       "      <td>0.862927</td>\n",
       "      <td>0.851903</td>\n",
       "      <td>0.624401</td>\n",
       "    </tr>\n",
       "    <tr>\n",
       "      <th>14</th>\n",
       "      <td>Meth</td>\n",
       "      <td>0.825834</td>\n",
       "      <td>0.872138</td>\n",
       "      <td>0.681184</td>\n",
       "    </tr>\n",
       "    <tr>\n",
       "      <th>15</th>\n",
       "      <td>Mushrooms</td>\n",
       "      <td>0.845476</td>\n",
       "      <td>0.839983</td>\n",
       "      <td>0.501326</td>\n",
       "    </tr>\n",
       "    <tr>\n",
       "      <th>16</th>\n",
       "      <td>Nicotine</td>\n",
       "      <td>0.761240</td>\n",
       "      <td>0.767682</td>\n",
       "      <td>0.576233</td>\n",
       "    </tr>\n",
       "    <tr>\n",
       "      <th>17</th>\n",
       "      <td>Semer</td>\n",
       "      <td>0.995029</td>\n",
       "      <td>0.998672</td>\n",
       "      <td>0.998672</td>\n",
       "    </tr>\n",
       "    <tr>\n",
       "      <th>18</th>\n",
       "      <td>VSA</td>\n",
       "      <td>0.865266</td>\n",
       "      <td>0.862730</td>\n",
       "      <td>0.787798</td>\n",
       "    </tr>\n",
       "  </tbody>\n",
       "</table>\n",
       "</div>"
      ],
      "text/plain": [
       "         drug  cross_val_mean   f1_test    dummys\n",
       "0    Alcohol         0.943463  0.965193  0.941470\n",
       "1      Amphet        0.814623  0.817356  0.521925\n",
       "2        Amyl        0.821702  0.825845  0.662245\n",
       "3      Benzos        0.779709  0.760823  0.474801\n",
       "4        Caff        0.966580  0.962865  0.978709\n",
       "5    Cannabis        0.863673  0.855198  0.576233\n",
       "6        Choc        0.968238  0.986652  0.978709\n",
       "7        Coke        0.841955  0.837378  0.558105\n",
       "8       Crack        0.888371  0.891771  0.812788\n",
       "9     Ecstasy        0.861508  0.858914  0.485411\n",
       "10     Heroin        0.910630  0.884424  0.801725\n",
       "11   Ketamine        0.835428  0.829929  0.697558\n",
       "12     Legalh        0.813215  0.823784  0.482487\n",
       "13        LSD        0.862927  0.851903  0.624401\n",
       "14       Meth        0.825834  0.872138  0.681184\n",
       "15  Mushrooms        0.845476  0.839983  0.501326\n",
       "16   Nicotine        0.761240  0.767682  0.576233\n",
       "17      Semer        0.995029  0.998672  0.998672\n",
       "18        VSA        0.865266  0.862730  0.787798"
      ]
     },
     "metadata": {},
     "output_type": "display_data"
    },
    {
     "name": "stdout",
     "output_type": "stream",
     "text": [
      "cross_val_mean:  0.866572010668347\n",
      "final_f1_test_mean:  0.8680652795256311\n",
      "final_dummy_mean:  0.691672609812006\n",
      "Wall time: 7.3 s\n"
     ]
    }
   ],
   "source": [
    "%%time\n",
    "names=[]\n",
    "f1_tr=[]\n",
    "dummys=[]\n",
    "f1_test=[]\n",
    "\n",
    "scorer = make_scorer(f1_score, average='weighted')\n",
    "model = lgb.LGBMClassifier(class_weight=\"balanced\", importance_type=\"gain\" ,cv=5,random_state= RANDOM_STATE,\n",
    "        n_jobs=-1, objective = 'binary')\n",
    "\n",
    "for col in tqdm(drug_columns):\n",
    "#     print('\\033[1m',dict_cols.get(col),'\\033[0m')\n",
    "    \n",
    "    \n",
    "    X=data_binary.drop(columns = col).copy()\n",
    "    y = data_binary[col].copy()\n",
    "    X_train, X_test, y_train, y_test = train_test_split(\n",
    "    X, y, test_size=0.2, random_state = RANDOM_STATE,stratify = y)\n",
    "\n",
    "\n",
    "    dummy_mod = DummyClassifier(random_state=42, \n",
    "                                    strategy='stratified'\n",
    "                                    )\n",
    "    \n",
    "    dummy_mod.fit(X_train, y_train)\n",
    "    names.append(dict_cols.get(col))\n",
    "    \n",
    "#     scorer = make_scorer(f1_score, average='weighted')\n",
    "    f1_tr.append(cross_val_score(model, X_train, y_train, cv=5,scoring =scorer).mean())\n",
    "    \n",
    "    \n",
    "    model.fit(X_train,y_train)\n",
    "    y_pred=model.predict(X_test)\n",
    "    \n",
    "    f1_test.append(f1_score(y_pred,y_test,average='weighted'))\n",
    "    dummys.append((f1_score(dummy_mod.predict(X_test),y_test,average='weighted')))\n",
    "    \n",
    "    \n",
    "data_={'drug':names,'cross_val_mean':f1_tr,'f1_test':f1_test,'dummys':dummys}\n",
    "df_=pd.DataFrame(data_)\n",
    "display(df_)\n",
    "\n",
    "\n",
    "print('cross_val_mean: ', df_['cross_val_mean'].mean())\n",
    "print('final_f1_test_mean: ', df_['f1_test'].mean())\n",
    "print('final_dummy_mean: ', df_['dummys'].mean())"
   ]
  },
  {
   "cell_type": "markdown",
   "id": "b919c46f",
   "metadata": {},
   "source": [
    "Проверим где мы предсказали хуже Dummy"
   ]
  },
  {
   "cell_type": "code",
   "execution_count": 20,
   "id": "af19d643",
   "metadata": {
    "ExecuteTime": {
     "end_time": "2023-03-06T11:39:28.923539Z",
     "start_time": "2023-03-06T11:39:28.909576Z"
    }
   },
   "outputs": [
    {
     "data": {
      "text/html": [
       "<div>\n",
       "<style scoped>\n",
       "    .dataframe tbody tr th:only-of-type {\n",
       "        vertical-align: middle;\n",
       "    }\n",
       "\n",
       "    .dataframe tbody tr th {\n",
       "        vertical-align: top;\n",
       "    }\n",
       "\n",
       "    .dataframe thead th {\n",
       "        text-align: right;\n",
       "    }\n",
       "</style>\n",
       "<table border=\"1\" class=\"dataframe\">\n",
       "  <thead>\n",
       "    <tr style=\"text-align: right;\">\n",
       "      <th></th>\n",
       "      <th>drug</th>\n",
       "      <th>cross_val_mean</th>\n",
       "      <th>f1_test</th>\n",
       "      <th>dummys</th>\n",
       "    </tr>\n",
       "  </thead>\n",
       "  <tbody>\n",
       "    <tr>\n",
       "      <th>4</th>\n",
       "      <td>Caff</td>\n",
       "      <td>0.96658</td>\n",
       "      <td>0.962865</td>\n",
       "      <td>0.978709</td>\n",
       "    </tr>\n",
       "  </tbody>\n",
       "</table>\n",
       "</div>"
      ],
      "text/plain": [
       "   drug  cross_val_mean   f1_test    dummys\n",
       "4  Caff         0.96658  0.962865  0.978709"
      ]
     },
     "execution_count": 20,
     "metadata": {},
     "output_type": "execute_result"
    }
   ],
   "source": [
    "df_[df_['dummys'] > df_['f1_test']]"
   ]
  },
  {
   "cell_type": "markdown",
   "id": "12ac1d31",
   "metadata": {},
   "source": [
    "**Выводы**\n",
    "\n",
    "В данном ноутбуке была обучена модель градиентного бустинга для мультитаргета. Затем таргеты были преобразованы в бинарные и модель обучена на них. Использована метрика f1_macro_weighted.Мы превзошли бейзлайн от Dummy с помощью нашей модели\n",
    "\n",
    "** Можно улучшить ** \n",
    "1.В реальных условиях лучше уточнить какую задачу хочет решить заказчик и подберу более точную метрику поскольку таргеты у нас по смыслу очень разные (коффе употребляют почти все , а героин почти никто, а мы усредняем это одинаково)\n",
    "\n",
    "\n",
    "2.Можно сделать тюнинг гиперпарамтеров оптюной, автомлем для пониманя какой скор мы можем выжать.\n",
    "\n",
    "\n",
    "3.Использовать shap для интерпритации\n",
    "\n",
    "4.Вынести большие функции в отедльный .py файл"
   ]
  }
 ],
 "metadata": {
  "kernelspec": {
   "display_name": "Python 3",
   "language": "python",
   "name": "python3"
  },
  "language_info": {
   "codemirror_mode": {
    "name": "ipython",
    "version": 3
   },
   "file_extension": ".py",
   "mimetype": "text/x-python",
   "name": "python",
   "nbconvert_exporter": "python",
   "pygments_lexer": "ipython3",
   "version": "3.8.8"
  },
  "toc": {
   "base_numbering": 1,
   "nav_menu": {},
   "number_sections": true,
   "sideBar": true,
   "skip_h1_title": false,
   "title_cell": "Содержание",
   "title_sidebar": "Содержание",
   "toc_cell": true,
   "toc_position": {
    "height": "calc(100% - 180px)",
    "left": "10px",
    "top": "150px",
    "width": "334.391px"
   },
   "toc_section_display": true,
   "toc_window_display": true
  }
 },
 "nbformat": 4,
 "nbformat_minor": 5
}
