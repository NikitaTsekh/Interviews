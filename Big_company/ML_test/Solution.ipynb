{
 "cells": [
  {
   "cell_type": "markdown",
   "id": "5a546c72",
   "metadata": {
    "toc": true
   },
   "source": [
    "<h1>Содержание<span class=\"tocSkip\"></span></h1>\n",
    "<div class=\"toc\"><ul class=\"toc-item\"><li><span><a href=\"#Description\" data-toc-modified-id=\"Description-1\"><span class=\"toc-item-num\">1&nbsp;&nbsp;</span>Description</a></span></li><li><span><a href=\"#Imports\" data-toc-modified-id=\"Imports-2\"><span class=\"toc-item-num\">2&nbsp;&nbsp;</span>Imports</a></span><ul class=\"toc-item\"><li><span><a href=\"#Reading-data\" data-toc-modified-id=\"Reading-data-2.1\"><span class=\"toc-item-num\">2.1&nbsp;&nbsp;</span>Reading data</a></span></li><li><span><a href=\"#EDA\" data-toc-modified-id=\"EDA-2.2\"><span class=\"toc-item-num\">2.2&nbsp;&nbsp;</span>EDA</a></span></li><li><span><a href=\"#Preprocessing\" data-toc-modified-id=\"Preprocessing-2.3\"><span class=\"toc-item-num\">2.3&nbsp;&nbsp;</span>Preprocessing</a></span></li></ul></li><li><span><a href=\"#Model\" data-toc-modified-id=\"Model-3\"><span class=\"toc-item-num\">3&nbsp;&nbsp;</span>Model</a></span></li><li><span><a href=\"#Test-predicting-and-saving-resulting-dataframe\" data-toc-modified-id=\"Test-predicting-and-saving-resulting-dataframe-4\"><span class=\"toc-item-num\">4&nbsp;&nbsp;</span>Test predicting and saving resulting dataframe</a></span></li><li><span><a href=\"#Conclusion\" data-toc-modified-id=\"Conclusion-5\"><span class=\"toc-item-num\">5&nbsp;&nbsp;</span>Conclusion</a></span></li></ul></div>"
   ]
  },
  {
   "cell_type": "markdown",
   "id": "7deb37b1-4578-4cfa-944f-51b4829e52dc",
   "metadata": {
    "tags": []
   },
   "source": [
    "## Description\n",
    "\n",
    "In this notebook we are building a model for multiclass classification for clients (0,1,2 classes).\n",
    "\n",
    "We have dataset with 260 features, but don't know their meaning.\n",
    "\n",
    "## Imports"
   ]
  },
  {
   "cell_type": "code",
   "execution_count": 1,
   "id": "944496d7-0c75-4980-afae-d9eb75354618",
   "metadata": {
    "execution": {
     "iopub.execute_input": "2023-01-29T21:53:46.160123Z",
     "iopub.status.busy": "2023-01-29T21:53:46.159943Z",
     "iopub.status.idle": "2023-01-29T21:53:47.507791Z",
     "shell.execute_reply": "2023-01-29T21:53:47.507168Z",
     "shell.execute_reply.started": "2023-01-29T21:53:46.160077Z"
    },
    "tags": []
   },
   "outputs": [
    {
     "name": "stderr",
     "output_type": "stream",
     "text": [
      "/home/nikita/.local/lib/python3.10/site-packages/tqdm/auto.py:22: TqdmWarning: IProgress not found. Please update jupyter and ipywidgets. See https://ipywidgets.readthedocs.io/en/stable/user_install.html\n",
      "  from .autonotebook import tqdm as notebook_tqdm\n"
     ]
    }
   ],
   "source": [
    "import pandas as pd\n",
    "import numpy as np\n",
    "import lightgbm as lgb\n",
    "import re\n",
    "import matplotlib.pyplot as plt\n",
    "import seaborn as sns\n",
    "from scipy import stats\n",
    "\n",
    "from sklearn.cluster import KMeans\n",
    "from sklearn.metrics import f1_score\n",
    "from sklearn.model_selection import cross_val_score\n",
    "\n",
    "from sklearn.dummy import DummyClassifier\n",
    "from sklearn.model_selection import train_test_split, RandomizedSearchCV\n",
    "from sklearn.metrics import classification_report\n",
    "from sklearn.metrics import precision_recall_fscore_support\n",
    "from sklearn.feature_selection import VarianceThreshold\n",
    "from sklearn.ensemble import RandomForestClassifier\n",
    "from sklearn.inspection import permutation_importance\n",
    "\n",
    "import optuna\n",
    "import logging\n",
    "import warnings\n",
    "\n",
    "from tqdm import tqdm"
   ]
  },
  {
   "cell_type": "code",
   "execution_count": 2,
   "id": "49b5e25e-4a2d-4167-98c2-a044c693f9a9",
   "metadata": {
    "execution": {
     "iopub.execute_input": "2023-01-29T21:53:47.509249Z",
     "iopub.status.busy": "2023-01-29T21:53:47.508643Z",
     "iopub.status.idle": "2023-01-29T21:53:47.513147Z",
     "shell.execute_reply": "2023-01-29T21:53:47.512372Z",
     "shell.execute_reply.started": "2023-01-29T21:53:47.509221Z"
    },
    "tags": []
   },
   "outputs": [],
   "source": [
    "random_state_ = 12345"
   ]
  },
  {
   "cell_type": "markdown",
   "id": "f637fe48-d215-4791-9202-37b6b56d6d14",
   "metadata": {},
   "source": [
    "\n",
    "### Reading data"
   ]
  },
  {
   "cell_type": "code",
   "execution_count": 3,
   "id": "8481fe6b-6de8-4ea3-991b-c1a1a917ea6f",
   "metadata": {
    "execution": {
     "iopub.execute_input": "2023-01-29T21:53:47.514341Z",
     "iopub.status.busy": "2023-01-29T21:53:47.513983Z",
     "iopub.status.idle": "2023-01-29T21:53:48.244485Z",
     "shell.execute_reply": "2023-01-29T21:53:48.243894Z",
     "shell.execute_reply.started": "2023-01-29T21:53:47.514318Z"
    },
    "tags": []
   },
   "outputs": [
    {
     "name": "stdout",
     "output_type": "stream",
     "text": [
      "(18390, 262)\n",
      "(6131, 261)\n"
     ]
    }
   ],
   "source": [
    "df_train=pd.read_csv('contest_train.csv')\n",
    "df_test=pd.read_csv('contest_test.csv')\n",
    "print(df_train.shape)\n",
    "print(df_test.shape)"
   ]
  },
  {
   "cell_type": "markdown",
   "id": "362c5c45-4698-4d6c-8141-89d18cf325bf",
   "metadata": {
    "tags": []
   },
   "source": [
    "### EDA\n",
    "\n",
    "Making classic EDA is complicated because we have a lot of features and we don't know their meaning. So we are making just basic"
   ]
  },
  {
   "cell_type": "code",
   "execution_count": 4,
   "id": "68ecf22f-8614-40e2-a74e-0880cfafa0c1",
   "metadata": {
    "execution": {
     "iopub.execute_input": "2023-01-29T21:53:48.246144Z",
     "iopub.status.busy": "2023-01-29T21:53:48.245846Z",
     "iopub.status.idle": "2023-01-29T21:53:48.268299Z",
     "shell.execute_reply": "2023-01-29T21:53:48.267855Z",
     "shell.execute_reply.started": "2023-01-29T21:53:48.246126Z"
    },
    "tags": []
   },
   "outputs": [
    {
     "data": {
      "text/html": [
       "<div>\n",
       "<style scoped>\n",
       "    .dataframe tbody tr th:only-of-type {\n",
       "        vertical-align: middle;\n",
       "    }\n",
       "\n",
       "    .dataframe tbody tr th {\n",
       "        vertical-align: top;\n",
       "    }\n",
       "\n",
       "    .dataframe thead th {\n",
       "        text-align: right;\n",
       "    }\n",
       "</style>\n",
       "<table border=\"1\" class=\"dataframe\">\n",
       "  <thead>\n",
       "    <tr style=\"text-align: right;\">\n",
       "      <th></th>\n",
       "      <th>Unnamed: 0</th>\n",
       "      <th>FEATURE_0</th>\n",
       "      <th>FEATURE_1</th>\n",
       "      <th>FEATURE_2</th>\n",
       "      <th>FEATURE_3</th>\n",
       "      <th>FEATURE_4</th>\n",
       "      <th>FEATURE_5</th>\n",
       "      <th>FEATURE_6</th>\n",
       "      <th>FEATURE_7</th>\n",
       "      <th>FEATURE_8</th>\n",
       "      <th>...</th>\n",
       "      <th>FEATURE_251</th>\n",
       "      <th>FEATURE_252</th>\n",
       "      <th>FEATURE_253</th>\n",
       "      <th>FEATURE_254</th>\n",
       "      <th>FEATURE_255</th>\n",
       "      <th>FEATURE_256</th>\n",
       "      <th>FEATURE_257</th>\n",
       "      <th>FEATURE_258</th>\n",
       "      <th>FEATURE_259</th>\n",
       "      <th>TARGET</th>\n",
       "    </tr>\n",
       "  </thead>\n",
       "  <tbody>\n",
       "    <tr>\n",
       "      <th>10597</th>\n",
       "      <td>562150366</td>\n",
       "      <td>0.0</td>\n",
       "      <td>0.0</td>\n",
       "      <td>0.0</td>\n",
       "      <td>0.0</td>\n",
       "      <td>0.0</td>\n",
       "      <td>0.0</td>\n",
       "      <td>0.0</td>\n",
       "      <td>-15.432823</td>\n",
       "      <td>-8.012638</td>\n",
       "      <td>...</td>\n",
       "      <td>0.0</td>\n",
       "      <td>204.698246</td>\n",
       "      <td>223.344677</td>\n",
       "      <td>0.0</td>\n",
       "      <td>1.0</td>\n",
       "      <td>0.0</td>\n",
       "      <td>2.0</td>\n",
       "      <td>1.0</td>\n",
       "      <td>1.0</td>\n",
       "      <td>0</td>\n",
       "    </tr>\n",
       "    <tr>\n",
       "      <th>16507</th>\n",
       "      <td>323764638</td>\n",
       "      <td>0.0</td>\n",
       "      <td>0.0</td>\n",
       "      <td>0.0</td>\n",
       "      <td>0.0</td>\n",
       "      <td>0.0</td>\n",
       "      <td>0.0</td>\n",
       "      <td>0.0</td>\n",
       "      <td>-4.589587</td>\n",
       "      <td>22.060938</td>\n",
       "      <td>...</td>\n",
       "      <td>0.0</td>\n",
       "      <td>147.789068</td>\n",
       "      <td>163.715941</td>\n",
       "      <td>1.0</td>\n",
       "      <td>0.0</td>\n",
       "      <td>0.0</td>\n",
       "      <td>1.0</td>\n",
       "      <td>1.0</td>\n",
       "      <td>1.0</td>\n",
       "      <td>0</td>\n",
       "    </tr>\n",
       "    <tr>\n",
       "      <th>1490</th>\n",
       "      <td>736451977</td>\n",
       "      <td>0.0</td>\n",
       "      <td>0.0</td>\n",
       "      <td>0.0</td>\n",
       "      <td>0.0</td>\n",
       "      <td>0.0</td>\n",
       "      <td>0.0</td>\n",
       "      <td>0.0</td>\n",
       "      <td>11.587923</td>\n",
       "      <td>11.135006</td>\n",
       "      <td>...</td>\n",
       "      <td>6.0</td>\n",
       "      <td>180.276918</td>\n",
       "      <td>309.940521</td>\n",
       "      <td>0.0</td>\n",
       "      <td>0.0</td>\n",
       "      <td>0.0</td>\n",
       "      <td>1.0</td>\n",
       "      <td>1.0</td>\n",
       "      <td>1.0</td>\n",
       "      <td>0</td>\n",
       "    </tr>\n",
       "  </tbody>\n",
       "</table>\n",
       "<p>3 rows × 262 columns</p>\n",
       "</div>"
      ],
      "text/plain": [
       "       Unnamed: 0  FEATURE_0  FEATURE_1  FEATURE_2  FEATURE_3  FEATURE_4  \\\n",
       "10597   562150366        0.0        0.0        0.0        0.0        0.0   \n",
       "16507   323764638        0.0        0.0        0.0        0.0        0.0   \n",
       "1490    736451977        0.0        0.0        0.0        0.0        0.0   \n",
       "\n",
       "       FEATURE_5  FEATURE_6  FEATURE_7  FEATURE_8  ...  FEATURE_251  \\\n",
       "10597        0.0        0.0 -15.432823  -8.012638  ...          0.0   \n",
       "16507        0.0        0.0  -4.589587  22.060938  ...          0.0   \n",
       "1490         0.0        0.0  11.587923  11.135006  ...          6.0   \n",
       "\n",
       "       FEATURE_252  FEATURE_253  FEATURE_254  FEATURE_255  FEATURE_256  \\\n",
       "10597   204.698246   223.344677          0.0          1.0          0.0   \n",
       "16507   147.789068   163.715941          1.0          0.0          0.0   \n",
       "1490    180.276918   309.940521          0.0          0.0          0.0   \n",
       "\n",
       "       FEATURE_257  FEATURE_258  FEATURE_259  TARGET  \n",
       "10597          2.0          1.0          1.0       0  \n",
       "16507          1.0          1.0          1.0       0  \n",
       "1490           1.0          1.0          1.0       0  \n",
       "\n",
       "[3 rows x 262 columns]"
      ]
     },
     "metadata": {},
     "output_type": "display_data"
    }
   ],
   "source": [
    "display(df_train.sample(3))"
   ]
  },
  {
   "cell_type": "code",
   "execution_count": 5,
   "id": "edfbee84-d5d0-4cd5-97bb-eb013c1cd0b6",
   "metadata": {
    "execution": {
     "iopub.execute_input": "2023-01-29T21:53:48.269218Z",
     "iopub.status.busy": "2023-01-29T21:53:48.268872Z",
     "iopub.status.idle": "2023-01-29T21:53:48.278848Z",
     "shell.execute_reply": "2023-01-29T21:53:48.278079Z",
     "shell.execute_reply.started": "2023-01-29T21:53:48.269202Z"
    },
    "tags": []
   },
   "outputs": [
    {
     "data": {
      "text/plain": [
       "0    13029\n",
       "1     4237\n",
       "2     1124\n",
       "Name: TARGET, dtype: int64"
      ]
     },
     "execution_count": 5,
     "metadata": {},
     "output_type": "execute_result"
    }
   ],
   "source": [
    "df_train['TARGET'].value_counts()"
   ]
  },
  {
   "cell_type": "markdown",
   "id": "c0af4a6f-b4b8-4fd7-a147-69a5b64fee0b",
   "metadata": {},
   "source": [
    "Classes are imbalanced\n",
    "\n",
    "Checking  NaNs:"
   ]
  },
  {
   "cell_type": "code",
   "execution_count": 6,
   "id": "58890be3-84d9-4a01-af7d-cac6426886c3",
   "metadata": {
    "execution": {
     "iopub.execute_input": "2023-01-29T21:53:48.280029Z",
     "iopub.status.busy": "2023-01-29T21:53:48.279750Z",
     "iopub.status.idle": "2023-01-29T21:53:48.297970Z",
     "shell.execute_reply": "2023-01-29T21:53:48.297017Z",
     "shell.execute_reply.started": "2023-01-29T21:53:48.280008Z"
    },
    "tags": []
   },
   "outputs": [
    {
     "data": {
      "text/plain": [
       "FEATURE_189    0.986732\n",
       "FEATURE_194    0.704296\n",
       "FEATURE_190    0.700870\n",
       "FEATURE_191    0.622675\n",
       "FEATURE_192    0.530288\n",
       "FEATURE_193    0.510169\n",
       "FEATURE_187    0.481620\n",
       "FEATURE_71     0.119032\n",
       "FEATURE_73     0.119032\n",
       "FEATURE_195    0.112779\n",
       "FEATURE_72     0.112507\n",
       "FEATURE_153    0.099184\n",
       "FEATURE_149    0.099184\n",
       "FEATURE_150    0.099184\n",
       "FEATURE_151    0.099184\n",
       "FEATURE_152    0.099184\n",
       "FEATURE_8      0.048559\n",
       "FEATURE_188    0.042034\n",
       "FEATURE_162    0.026482\n",
       "FEATURE_196    0.019358\n",
       "FEATURE_133    0.011854\n",
       "FEATURE_138    0.011854\n",
       "FEATURE_137    0.011854\n",
       "FEATURE_136    0.011854\n",
       "FEATURE_135    0.011854\n",
       "FEATURE_134    0.011854\n",
       "FEATURE_131    0.011854\n",
       "FEATURE_132    0.011854\n",
       "FEATURE_129    0.011854\n",
       "FEATURE_124    0.011854\n",
       "dtype: float64"
      ]
     },
     "execution_count": 6,
     "metadata": {},
     "output_type": "execute_result"
    }
   ],
   "source": [
    "df_train.isnull().mean().sort_values(ascending=False)[0:30]"
   ]
  },
  {
   "cell_type": "markdown",
   "id": "a4d8af0e-c0b9-4b1b-9c98-c10b9dc521ee",
   "metadata": {
    "execution": {
     "iopub.execute_input": "2023-01-29T20:07:18.784770Z",
     "iopub.status.busy": "2023-01-29T20:07:18.783236Z",
     "iopub.status.idle": "2023-01-29T20:07:18.791955Z",
     "shell.execute_reply": "2023-01-29T20:07:18.790474Z",
     "shell.execute_reply.started": "2023-01-29T20:07:18.784713Z"
    },
    "tags": []
   },
   "source": [
    "Checking duplicates:"
   ]
  },
  {
   "cell_type": "code",
   "execution_count": 7,
   "id": "ee712752-ac6f-4b60-af55-0528d03afdd3",
   "metadata": {
    "execution": {
     "iopub.execute_input": "2023-01-29T21:53:48.299514Z",
     "iopub.status.busy": "2023-01-29T21:53:48.299145Z",
     "iopub.status.idle": "2023-01-29T21:53:48.450424Z",
     "shell.execute_reply": "2023-01-29T21:53:48.449669Z",
     "shell.execute_reply.started": "2023-01-29T21:53:48.299485Z"
    },
    "tags": []
   },
   "outputs": [
    {
     "data": {
      "text/plain": [
       "0"
      ]
     },
     "execution_count": 7,
     "metadata": {},
     "output_type": "execute_result"
    }
   ],
   "source": [
    "df_train.duplicated().sum()"
   ]
  },
  {
   "cell_type": "markdown",
   "id": "24ed5df6-c97a-4d4a-83e9-e6619d3dfac2",
   "metadata": {
    "tags": []
   },
   "source": [
    "### Preprocessing\n"
   ]
  },
  {
   "cell_type": "code",
   "execution_count": 8,
   "id": "50a8ef8e-0ef3-494e-b356-34e70212201b",
   "metadata": {
    "execution": {
     "iopub.execute_input": "2023-01-29T21:53:48.451353Z",
     "iopub.status.busy": "2023-01-29T21:53:48.451186Z",
     "iopub.status.idle": "2023-01-29T21:53:48.454809Z",
     "shell.execute_reply": "2023-01-29T21:53:48.454258Z",
     "shell.execute_reply.started": "2023-01-29T21:53:48.451338Z"
    },
    "tags": []
   },
   "outputs": [
    {
     "data": {
      "text/plain": [
       "{'TARGET', 'Unnamed: 0'}"
      ]
     },
     "execution_count": 8,
     "metadata": {},
     "output_type": "execute_result"
    }
   ],
   "source": [
    "#Checking the difference in columns in train and test datasets\n",
    "set(df_train.columns)-set(df_test.columns)"
   ]
  },
  {
   "cell_type": "code",
   "execution_count": 9,
   "id": "12f1678d-5610-4f9e-b277-b5f6f56057a6",
   "metadata": {
    "execution": {
     "iopub.execute_input": "2023-01-29T21:53:48.455632Z",
     "iopub.status.busy": "2023-01-29T21:53:48.455462Z",
     "iopub.status.idle": "2023-01-29T21:53:48.478207Z",
     "shell.execute_reply": "2023-01-29T21:53:48.477755Z",
     "shell.execute_reply.started": "2023-01-29T21:53:48.455616Z"
    },
    "tags": []
   },
   "outputs": [],
   "source": [
    "#Lets rename columns\n",
    "df_train = df_train.rename(columns={'Unnamed: 0': 'id'})"
   ]
  },
  {
   "cell_type": "code",
   "execution_count": 10,
   "id": "bf3a63bc-3ca8-4d2c-9e26-bdc1fdfeefe5",
   "metadata": {
    "execution": {
     "iopub.execute_input": "2023-01-29T21:53:48.479059Z",
     "iopub.status.busy": "2023-01-29T21:53:48.478883Z",
     "iopub.status.idle": "2023-01-29T21:53:48.486064Z",
     "shell.execute_reply": "2023-01-29T21:53:48.485674Z",
     "shell.execute_reply.started": "2023-01-29T21:53:48.479042Z"
    },
    "tags": []
   },
   "outputs": [],
   "source": [
    "def preprocessing(df):\n",
    "    '''\n",
    "    preprocessing data\n",
    "    we will lower column names and delete other \n",
    "    than symbolic and numeric letters \n",
    "    '''\n",
    "    # приведем колонки к нижнему регистру\n",
    "    df.columns = map(str.lower, df.columns)\n",
    "    # Удалим лишние симвоы\n",
    "    df = df.rename(columns=lambda x: re.sub('[^A-Za-z0-9_]+', '', x))\n",
    "\n",
    "    return df\n",
    "\n",
    "\n",
    "def clean_from_nans_and_duplicates(df, threshold=0.45):\n",
    "    '''\n",
    "    cleaning data from columns with nans()\n",
    "    threshold 0.45 was taken knowing that we cannot do anything with features\n",
    "    with more than 0.45 nans when we don't know what the column is about\n",
    "\n",
    "    '''\n",
    "\n",
    "    print(f'Number of columns with count of Nans more than {threshold} samples', len(\n",
    "        df.isnull().mean().sort_values().loc[lambda x:x > threshold]))\n",
    "    df = df.drop(columns=df.isnull().mean(\n",
    "    ).sort_values().loc[lambda x:x > threshold].index)\n",
    "    print(f'Number of columns with count of Nans more than {threshold} samples after deleting', len(\n",
    "        df.isnull().mean().sort_values().loc[lambda x:x > threshold]))\n",
    "\n",
    "    print('Number of duplicated samples within dataset:',\n",
    "          len(df.loc[lambda x:x.duplicated()]))\n",
    "\n",
    "    df = df.drop_duplicates()\n",
    "    print('Number of duplicated samples within dataset after dropping:',\n",
    "          len(df.loc[lambda x:x.duplicated()]))\n",
    "\n",
    "    return df\n",
    "\n",
    "\n",
    "def clean_from_constans(df):\n",
    "    '''\n",
    "    cleaning data from features that are all the same. But there should not \n",
    "    be NaNs inside. LGBM CLassifier probably would find some logic in it\n",
    "    '''\n",
    "    # Get the number of unique values for each feature\n",
    "    unique_counts = df[df.isnull().mean().sort_values(\n",
    "    ).loc[lambda x:x == 0].index].nunique()\n",
    "\n",
    "    # Get the names of the constant features\n",
    "    constant_feature_names = unique_counts[unique_counts == 1].index\n",
    "\n",
    "    # Print the names of the constant features\n",
    "    print(\"Constant features:\", constant_feature_names)\n",
    "    print('Shape of dataframe before deleting cosntant features:', df.shape)\n",
    "\n",
    "    # Remove the constant features from the training data\n",
    "    df = df.drop(columns=constant_feature_names)\n",
    "\n",
    "    print('Shape of dataframe after deleting cosntant features:', df.shape)\n",
    "\n",
    "    return df\n",
    "\n",
    "\n",
    "def clean_from_correlation(df, threshold=0.95):\n",
    "    '''\n",
    "    Function cleans data from highly correlated features\n",
    "    '''\n",
    "\n",
    "    print(\n",
    "        f'Shape of dataframe before deleting features with more than {threshold} correlation:', df.shape)\n",
    "    # Create correlation matrix\n",
    "    corr_matrix = df.drop(columns=['target', 'id']).corr().abs()\n",
    "\n",
    "    # Select upper triangle of correlation matrix\n",
    "    upper = corr_matrix.where(\n",
    "        np.triu(np.ones(corr_matrix.shape), k=1).astype(bool))\n",
    "\n",
    "    # Find features with correlation greater than 0.95\n",
    "    to_drop = [column for column in upper.columns if any(\n",
    "        upper[column] > threshold)]\n",
    "\n",
    "    # Drop features\n",
    "    df = df.drop(to_drop, axis=1)\n",
    "\n",
    "    print(\n",
    "        f'Shape of dataframe after deleting features with more than {threshold} correlation:', df.shape)\n",
    "\n",
    "    return df"
   ]
  },
  {
   "cell_type": "code",
   "execution_count": 11,
   "id": "de6f7365-83fc-4c47-86f3-4f538c7c901f",
   "metadata": {
    "execution": {
     "iopub.execute_input": "2023-01-29T21:53:48.486804Z",
     "iopub.status.busy": "2023-01-29T21:53:48.486628Z",
     "iopub.status.idle": "2023-01-29T21:53:51.210780Z",
     "shell.execute_reply": "2023-01-29T21:53:51.210124Z",
     "shell.execute_reply.started": "2023-01-29T21:53:48.486788Z"
    },
    "tags": []
   },
   "outputs": [
    {
     "name": "stdout",
     "output_type": "stream",
     "text": [
      "Number of columns with count of Nans more than 0.45 samples 7\n",
      "Number of columns with count of Nans more than 0.45 samples after deleting 0\n",
      "Number of duplicated samples within dataset: 0\n",
      "Number of duplicated samples within dataset after dropping: 0\n",
      "Shape of dataframe before deleting features with more than 0.95 correlation: (18390, 255)\n",
      "Shape of dataframe after deleting features with more than 0.95 correlation: (18390, 230)\n",
      "Constant features: Index(['feature_144', 'feature_249', 'feature_256', 'feature_3'], dtype='object')\n",
      "Shape of dataframe before deleting cosntant features: (18390, 230)\n",
      "Shape of dataframe after deleting cosntant features: (18390, 226)\n"
     ]
    }
   ],
   "source": [
    "df_train = preprocessing(df_train)\n",
    "df_train = clean_from_nans_and_duplicates(df_train)\n",
    "df_train = clean_from_correlation(df_train)\n",
    "df_train = clean_from_constans(df_train)"
   ]
  },
  {
   "cell_type": "code",
   "execution_count": 12,
   "id": "1a5a6cd9-5398-4ed7-bdab-db44aaacbdc2",
   "metadata": {
    "execution": {
     "iopub.execute_input": "2023-01-29T21:53:51.211712Z",
     "iopub.status.busy": "2023-01-29T21:53:51.211477Z",
     "iopub.status.idle": "2023-01-29T21:53:51.214612Z",
     "shell.execute_reply": "2023-01-29T21:53:51.214124Z",
     "shell.execute_reply.started": "2023-01-29T21:53:51.211681Z"
    },
    "tags": []
   },
   "outputs": [
    {
     "name": "stdout",
     "output_type": "stream",
     "text": [
      "(18390, 226)\n",
      "(6131, 261)\n"
     ]
    }
   ],
   "source": [
    "print(df_train.shape)\n",
    "print(df_test.shape)"
   ]
  },
  {
   "cell_type": "markdown",
   "id": "30f999dd-e422-4010-a44b-1c0eaf10f14f",
   "metadata": {},
   "source": [
    "## Model"
   ]
  },
  {
   "cell_type": "code",
   "execution_count": 13,
   "id": "ff3ac59f-8849-4d43-baa8-dac5eb2ce9c5",
   "metadata": {
    "execution": {
     "iopub.execute_input": "2023-01-29T21:53:51.216854Z",
     "iopub.status.busy": "2023-01-29T21:53:51.216658Z",
     "iopub.status.idle": "2023-01-29T21:53:51.225497Z",
     "shell.execute_reply": "2023-01-29T21:53:51.225076Z",
     "shell.execute_reply.started": "2023-01-29T21:53:51.216839Z"
    },
    "tags": []
   },
   "outputs": [],
   "source": [
    "def split_data(df):\n",
    "\n",
    "    X_train, X_test, y_train, y_test = train_test_split(\n",
    "        df.drop(columns=['target', 'id']), df['target'], test_size=0.2, stratify=df['target'], random_state=random_state_)\n",
    "\n",
    "    return X_train, X_test, y_train, y_test"
   ]
  },
  {
   "cell_type": "code",
   "execution_count": 14,
   "id": "a6e41eaa-f2f7-4913-aff6-9cd8e14f4379",
   "metadata": {
    "execution": {
     "iopub.execute_input": "2023-01-29T21:53:51.226476Z",
     "iopub.status.busy": "2023-01-29T21:53:51.226113Z",
     "iopub.status.idle": "2023-01-29T21:53:51.231066Z",
     "shell.execute_reply": "2023-01-29T21:53:51.230348Z",
     "shell.execute_reply.started": "2023-01-29T21:53:51.226460Z"
    },
    "tags": []
   },
   "outputs": [],
   "source": [
    "def get_lgbm_scores(df):\n",
    "    '''\n",
    "    Function searches for best_parametres using random search cv for LG\n",
    "    '''\n",
    "\n",
    "    X_train, X_test, y_train, y_test = split_data(df_train)\n",
    "\n",
    "    parameters = {\"num_leaves\": range(2, 110, 10),\n",
    "                  \"n_estimators\": range(30, 500, 20),\n",
    "                  \"learning_rate\": [0.01, 0.05, 0.1],\n",
    "                  \"max_depth\": [-1, 6],\n",
    "                  \"colsample_bytree\": [0.7, 0.8, 0.9],\n",
    "                  \"reg_alpha\": [0.1, 0.15, 0.2],\n",
    "                  \"reg_lambda\": [0.1, 0.15, 0.2],\n",
    "                  \"min_child_samples\": [15, 20, 25]\n",
    "\n",
    "                  }\n",
    "\n",
    "    LGBM_search = RandomizedSearchCV(\n",
    "        lgb.LGBMClassifier(class_weight=\"balanced\", importance_type=\"gain\"),\n",
    "        parameters,\n",
    "        cv=5,\n",
    "        random_state=12345,\n",
    "        scoring=\"f1_macro\",\n",
    "        n_jobs=-1,\n",
    "    )\n",
    "    LGBM_search.fit(X_train, y_train)\n",
    "\n",
    "    model_lgbm_class = LGBM_search.best_estimator_\n",
    "    y_pred = model_lgbm_class.predict(X_test)\n",
    "\n",
    "    macro_f1 = f1_score(y_test, y_pred, average='macro')\n",
    "    # Calculate the macro-F1-score\n",
    "\n",
    "    precision, recall, f1_score_, support = precision_recall_fscore_support(\n",
    "        y_test, y_pred)\n",
    "    class_labels = model_lgbm_class.classes_\n",
    "    for i in range(len(class_labels)):\n",
    "        print(f\"F1-Score for class {class_labels[i]}: {f1_score_[i]:.2f}\")\n",
    "\n",
    "    return macro_f1"
   ]
  },
  {
   "cell_type": "code",
   "execution_count": 15,
   "id": "118dfbd1-ffbb-46ac-8f13-3d02db0982b5",
   "metadata": {
    "execution": {
     "iopub.execute_input": "2023-01-29T21:53:51.232619Z",
     "iopub.status.busy": "2023-01-29T21:53:51.232071Z",
     "iopub.status.idle": "2023-01-29T21:53:51.237874Z",
     "shell.execute_reply": "2023-01-29T21:53:51.237157Z",
     "shell.execute_reply.started": "2023-01-29T21:53:51.232584Z"
    },
    "tags": []
   },
   "outputs": [],
   "source": [
    "def plot_dummy_classifier_scores(df):\n",
    "    '''\n",
    "    The function gets dummy classifier scores\n",
    "    using different strategies. It is done for\n",
    "    checkign real model for adequacy\n",
    "    '''\n",
    "    print('Dummy classifier scores:')\n",
    "\n",
    "    X_train, X_test, y_train, y_test = split_data(df_train)\n",
    "\n",
    "    strategies = ('most_frequent', 'stratified', 'uniform')\n",
    "\n",
    "    for strategy in strategies:\n",
    "        print(strategy)\n",
    "        print()\n",
    "        dummy_clf = DummyClassifier(strategy=strategy)\n",
    "\n",
    "        dummy_clf.fit(X_train, y_train)\n",
    "        y_pred = dummy_clf.predict(X_test)\n",
    "\n",
    "        macro_f1 = f1_score(y_test, y_pred, average='macro')\n",
    "        print('Dummy Classifier macro f1:', macro_f1)\n",
    "\n",
    "        class_labels = dummy_clf.classes_\n",
    "        precision, recall, f1_score_, support = precision_recall_fscore_support(\n",
    "            y_test, y_pred)\n",
    "        class_labels = dummy_clf.classes_\n",
    "        for i in range(len(class_labels)):\n",
    "            print(f\"F1-Score for class {class_labels[i]}: {f1_score_[i]:.2f}\")"
   ]
  },
  {
   "cell_type": "code",
   "execution_count": 16,
   "id": "bfe8d429-c3d5-45b1-a15c-f917022bdca4",
   "metadata": {
    "execution": {
     "iopub.execute_input": "2023-01-29T21:53:51.239173Z",
     "iopub.status.busy": "2023-01-29T21:53:51.238716Z",
     "iopub.status.idle": "2023-01-29T21:53:51.282580Z",
     "shell.execute_reply": "2023-01-29T21:53:51.281999Z",
     "shell.execute_reply.started": "2023-01-29T21:53:51.239151Z"
    },
    "tags": []
   },
   "outputs": [
    {
     "name": "stdout",
     "output_type": "stream",
     "text": [
      "Dummy classifier scores:\n",
      "most_frequent\n",
      "\n",
      "Dummy Classifier macro f1: 0.2764693401230639\n",
      "F1-Score for class 0: 0.83\n",
      "F1-Score for class 1: 0.00\n",
      "F1-Score for class 2: 0.00\n",
      "stratified\n",
      "\n",
      "Dummy Classifier macro f1: 0.33693826026414375\n",
      "F1-Score for class 0: 0.72\n",
      "F1-Score for class 1: 0.25\n",
      "F1-Score for class 2: 0.04\n",
      "uniform\n",
      "\n",
      "Dummy Classifier macro f1: 0.2662130317793198\n",
      "F1-Score for class 0: 0.45\n",
      "F1-Score for class 1: 0.26\n",
      "F1-Score for class 2: 0.09\n"
     ]
    },
    {
     "name": "stderr",
     "output_type": "stream",
     "text": [
      "/home/nikita/.local/lib/python3.10/site-packages/sklearn/metrics/_classification.py:1334: UndefinedMetricWarning: Precision and F-score are ill-defined and being set to 0.0 in labels with no predicted samples. Use `zero_division` parameter to control this behavior.\n",
      "  _warn_prf(average, modifier, msg_start, len(result))\n"
     ]
    }
   ],
   "source": [
    "plot_dummy_classifier_scores(df_train)"
   ]
  },
  {
   "cell_type": "code",
   "execution_count": 17,
   "id": "d5fb912b-7613-4a16-a854-0df87fbdcf86",
   "metadata": {
    "execution": {
     "iopub.execute_input": "2023-01-29T21:53:51.283625Z",
     "iopub.status.busy": "2023-01-29T21:53:51.283323Z",
     "iopub.status.idle": "2023-01-29T22:00:06.520010Z",
     "shell.execute_reply": "2023-01-29T22:00:06.519487Z",
     "shell.execute_reply.started": "2023-01-29T21:53:51.283605Z"
    },
    "tags": []
   },
   "outputs": [
    {
     "name": "stdout",
     "output_type": "stream",
     "text": [
      "F1-Score for class 0: 0.78\n",
      "F1-Score for class 1: 0.38\n",
      "F1-Score for class 2: 0.51\n"
     ]
    },
    {
     "data": {
      "text/plain": [
       "0.5583579237832795"
      ]
     },
     "execution_count": 17,
     "metadata": {},
     "output_type": "execute_result"
    }
   ],
   "source": [
    "get_lgbm_scores(df_train)"
   ]
  },
  {
   "cell_type": "code",
   "execution_count": 19,
   "id": "99cab677-e425-41ae-9e32-94bdd621302f",
   "metadata": {
    "execution": {
     "iopub.execute_input": "2023-01-29T22:01:36.664053Z",
     "iopub.status.busy": "2023-01-29T22:01:36.663726Z",
     "iopub.status.idle": "2023-01-29T22:22:44.032053Z",
     "shell.execute_reply": "2023-01-29T22:22:44.031464Z",
     "shell.execute_reply.started": "2023-01-29T22:01:36.664026Z"
    },
    "tags": []
   },
   "outputs": [
    {
     "name": "stdout",
     "output_type": "stream",
     "text": [
      "Best trial:\n",
      "Value:  0.5756917430904065\n",
      "Params:  {'num_leaves': 92, 'n_estimators': 410, 'learning_rate': 0.020120882485445236, 'max_depth': -1, 'colsample_bytree': 0.7985005675497825, 'reg_alpha': 0.19395485708076837, 'reg_lambda': 0.1767091510357383, 'min_child_samples': 18}\n"
     ]
    }
   ],
   "source": [
    "def optimize_lgbm(trial, df):\n",
    "    '''\n",
    "    This function optimizes hyperparametres using optuna\n",
    "    '''\n",
    "\n",
    "    warnings.filterwarnings(\"ignore\")\n",
    "    optuna.logging.set_verbosity(logging.ERROR)\n",
    "    X_train, X_test, y_train, y_test = split_data(df_train)\n",
    "\n",
    "    # Define the parameter space\n",
    "    params = {\n",
    "        \"num_leaves\": trial.suggest_int(\"num_leaves\", 2, 110, 10),\n",
    "        \"n_estimators\": trial.suggest_int(\"n_estimators\", 30, 500, 20),\n",
    "        \"learning_rate\": trial.suggest_uniform(\"learning_rate\", 0.01, 0.1),\n",
    "        \"max_depth\": trial.suggest_int(\"max_depth\", -1, 6),\n",
    "        \"colsample_bytree\": trial.suggest_uniform(\"colsample_bytree\", 0.7, 0.9),\n",
    "        \"reg_alpha\": trial.suggest_uniform(\"reg_alpha\", 0.1, 0.2),\n",
    "        \"reg_lambda\": trial.suggest_uniform(\"reg_lambda\", 0.1, 0.2),\n",
    "        \"min_child_samples\": trial.suggest_int(\"min_child_samples\", 15, 25),\n",
    "    }\n",
    "\n",
    "    # Create the model\n",
    "    model = lgb.LGBMClassifier(\n",
    "        class_weight=\"balanced\", importance_type=\"gain\", n_jobs=-1, **params)\n",
    "    model.fit(X_train, y_train)\n",
    "    y_pred = model.predict(X_test)\n",
    "    f1_macro = f1_score(y_test, y_pred, average='macro')\n",
    "    return f1_macro\n",
    "\n",
    "\n",
    "study = optuna.create_study(direction=\"maximize\")\n",
    "study.optimize(lambda trial: optimize_lgbm(trial, df_train), n_trials=100)\n",
    "\n",
    "print(\"Best trial:\")\n",
    "print(\"Value: \", study.best_trial.value)\n",
    "print(\"Params: \", study.best_trial.params)"
   ]
  },
  {
   "cell_type": "markdown",
   "id": "6129381c-ef86-49a7-af42-8a480af1f7ab",
   "metadata": {},
   "source": [
    "Let's save best model"
   ]
  },
  {
   "cell_type": "code",
   "execution_count": 20,
   "id": "093e8641-dd7f-4ef7-b06d-1d1f155587cb",
   "metadata": {
    "execution": {
     "iopub.execute_input": "2023-01-29T22:22:44.033669Z",
     "iopub.status.busy": "2023-01-29T22:22:44.033123Z",
     "iopub.status.idle": "2023-01-29T22:23:07.602336Z",
     "shell.execute_reply": "2023-01-29T22:23:07.601829Z",
     "shell.execute_reply.started": "2023-01-29T22:22:44.033650Z"
    },
    "tags": []
   },
   "outputs": [
    {
     "data": {
      "text/html": [
       "<style>#sk-container-id-1 {color: black;background-color: white;}#sk-container-id-1 pre{padding: 0;}#sk-container-id-1 div.sk-toggleable {background-color: white;}#sk-container-id-1 label.sk-toggleable__label {cursor: pointer;display: block;width: 100%;margin-bottom: 0;padding: 0.3em;box-sizing: border-box;text-align: center;}#sk-container-id-1 label.sk-toggleable__label-arrow:before {content: \"▸\";float: left;margin-right: 0.25em;color: #696969;}#sk-container-id-1 label.sk-toggleable__label-arrow:hover:before {color: black;}#sk-container-id-1 div.sk-estimator:hover label.sk-toggleable__label-arrow:before {color: black;}#sk-container-id-1 div.sk-toggleable__content {max-height: 0;max-width: 0;overflow: hidden;text-align: left;background-color: #f0f8ff;}#sk-container-id-1 div.sk-toggleable__content pre {margin: 0.2em;color: black;border-radius: 0.25em;background-color: #f0f8ff;}#sk-container-id-1 input.sk-toggleable__control:checked~div.sk-toggleable__content {max-height: 200px;max-width: 100%;overflow: auto;}#sk-container-id-1 input.sk-toggleable__control:checked~label.sk-toggleable__label-arrow:before {content: \"▾\";}#sk-container-id-1 div.sk-estimator input.sk-toggleable__control:checked~label.sk-toggleable__label {background-color: #d4ebff;}#sk-container-id-1 div.sk-label input.sk-toggleable__control:checked~label.sk-toggleable__label {background-color: #d4ebff;}#sk-container-id-1 input.sk-hidden--visually {border: 0;clip: rect(1px 1px 1px 1px);clip: rect(1px, 1px, 1px, 1px);height: 1px;margin: -1px;overflow: hidden;padding: 0;position: absolute;width: 1px;}#sk-container-id-1 div.sk-estimator {font-family: monospace;background-color: #f0f8ff;border: 1px dotted black;border-radius: 0.25em;box-sizing: border-box;margin-bottom: 0.5em;}#sk-container-id-1 div.sk-estimator:hover {background-color: #d4ebff;}#sk-container-id-1 div.sk-parallel-item::after {content: \"\";width: 100%;border-bottom: 1px solid gray;flex-grow: 1;}#sk-container-id-1 div.sk-label:hover label.sk-toggleable__label {background-color: #d4ebff;}#sk-container-id-1 div.sk-serial::before {content: \"\";position: absolute;border-left: 1px solid gray;box-sizing: border-box;top: 0;bottom: 0;left: 50%;z-index: 0;}#sk-container-id-1 div.sk-serial {display: flex;flex-direction: column;align-items: center;background-color: white;padding-right: 0.2em;padding-left: 0.2em;position: relative;}#sk-container-id-1 div.sk-item {position: relative;z-index: 1;}#sk-container-id-1 div.sk-parallel {display: flex;align-items: stretch;justify-content: center;background-color: white;position: relative;}#sk-container-id-1 div.sk-item::before, #sk-container-id-1 div.sk-parallel-item::before {content: \"\";position: absolute;border-left: 1px solid gray;box-sizing: border-box;top: 0;bottom: 0;left: 50%;z-index: -1;}#sk-container-id-1 div.sk-parallel-item {display: flex;flex-direction: column;z-index: 1;position: relative;background-color: white;}#sk-container-id-1 div.sk-parallel-item:first-child::after {align-self: flex-end;width: 50%;}#sk-container-id-1 div.sk-parallel-item:last-child::after {align-self: flex-start;width: 50%;}#sk-container-id-1 div.sk-parallel-item:only-child::after {width: 0;}#sk-container-id-1 div.sk-dashed-wrapped {border: 1px dashed gray;margin: 0 0.4em 0.5em 0.4em;box-sizing: border-box;padding-bottom: 0.4em;background-color: white;}#sk-container-id-1 div.sk-label label {font-family: monospace;font-weight: bold;display: inline-block;line-height: 1.2em;}#sk-container-id-1 div.sk-label-container {text-align: center;}#sk-container-id-1 div.sk-container {/* jupyter's `normalize.less` sets `[hidden] { display: none; }` but bootstrap.min.css set `[hidden] { display: none !important; }` so we also need the `!important` here to be able to override the default hidden behavior on the sphinx rendered scikit-learn.org. See: https://github.com/scikit-learn/scikit-learn/issues/21755 */display: inline-block !important;position: relative;}#sk-container-id-1 div.sk-text-repr-fallback {display: none;}</style><div id=\"sk-container-id-1\" class=\"sk-top-container\"><div class=\"sk-text-repr-fallback\"><pre>LGBMClassifier(class_weight=&#x27;balanced&#x27;, colsample_bytree=0.7985005675497825,\n",
       "               importance_type=&#x27;gain&#x27;, learning_rate=0.020120882485445236,\n",
       "               min_child_samples=18, n_estimators=410, num_leaves=92,\n",
       "               reg_alpha=0.19395485708076837, reg_lambda=0.1767091510357383)</pre><b>In a Jupyter environment, please rerun this cell to show the HTML representation or trust the notebook. <br />On GitHub, the HTML representation is unable to render, please try loading this page with nbviewer.org.</b></div><div class=\"sk-container\" hidden><div class=\"sk-item\"><div class=\"sk-estimator sk-toggleable\"><input class=\"sk-toggleable__control sk-hidden--visually\" id=\"sk-estimator-id-1\" type=\"checkbox\" checked><label for=\"sk-estimator-id-1\" class=\"sk-toggleable__label sk-toggleable__label-arrow\">LGBMClassifier</label><div class=\"sk-toggleable__content\"><pre>LGBMClassifier(class_weight=&#x27;balanced&#x27;, colsample_bytree=0.7985005675497825,\n",
       "               importance_type=&#x27;gain&#x27;, learning_rate=0.020120882485445236,\n",
       "               min_child_samples=18, n_estimators=410, num_leaves=92,\n",
       "               reg_alpha=0.19395485708076837, reg_lambda=0.1767091510357383)</pre></div></div></div></div></div>"
      ],
      "text/plain": [
       "LGBMClassifier(class_weight='balanced', colsample_bytree=0.7985005675497825,\n",
       "               importance_type='gain', learning_rate=0.020120882485445236,\n",
       "               min_child_samples=18, n_estimators=410, num_leaves=92,\n",
       "               reg_alpha=0.19395485708076837, reg_lambda=0.1767091510357383)"
      ]
     },
     "execution_count": 20,
     "metadata": {},
     "output_type": "execute_result"
    }
   ],
   "source": [
    "parametres_ = study.best_trial.params\n",
    "\n",
    "best_model = lgb.LGBMClassifier(\n",
    "    class_weight=\"balanced\", importance_type=\"gain\", n_jobs=-1, **parametres_)\n",
    "\n",
    "# training on the whole dataset, to increase quality\n",
    "best_model.fit(df_train.drop(columns=['target', 'id']), df_train['target'])"
   ]
  },
  {
   "cell_type": "markdown",
   "id": "4efd7596-4122-49fd-91da-950a8b7eabeb",
   "metadata": {},
   "source": [
    "Lets check features by importance"
   ]
  },
  {
   "cell_type": "code",
   "execution_count": 21,
   "id": "8bcbe2d7-87bf-4d57-9cd1-3ab588c62cd2",
   "metadata": {
    "execution": {
     "iopub.execute_input": "2023-01-29T22:23:07.603179Z",
     "iopub.status.busy": "2023-01-29T22:23:07.603012Z",
     "iopub.status.idle": "2023-01-29T22:23:07.893863Z",
     "shell.execute_reply": "2023-01-29T22:23:07.893402Z",
     "shell.execute_reply.started": "2023-01-29T22:23:07.603164Z"
    },
    "tags": []
   },
   "outputs": [
    {
     "name": "stdout",
     "output_type": "stream",
     "text": [
      "Feature_importance by LGBM Classifier:\n"
     ]
    },
    {
     "data": {
      "image/png": "[encoded data removed]",
      "text/plain": [
       "<Figure size 1300x600 with 1 Axes>"
      ]
     },
     "metadata": {},
     "output_type": "display_data"
    }
   ],
   "source": [
    "print('Feature_importance by LGBM Classifier:')\n",
    "feat_importances = pd.Series(\n",
    "    best_model.feature_importances_, index=df_train.drop(\n",
    "        columns=['target', 'id']).columns\n",
    ")\n",
    "feat_importances.nlargest(30).plot(kind=\"barh\", figsize=(13, 6))"
   ]
  },
  {
   "cell_type": "markdown",
   "id": "b223442d-e49c-40e9-9ef1-9f251af6f6d7",
   "metadata": {},
   "source": [
    "Lets check for outliers and experiment with threshold movement"
   ]
  },
  {
   "cell_type": "code",
   "execution_count": 24,
   "id": "ba52c670-f186-4760-88c1-af2dc188dc69",
   "metadata": {
    "execution": {
     "iopub.execute_input": "2023-01-30T02:01:51.246908Z",
     "iopub.status.busy": "2023-01-30T02:01:51.246678Z",
     "iopub.status.idle": "2023-01-30T02:01:51.251702Z",
     "shell.execute_reply": "2023-01-30T02:01:51.251258Z",
     "shell.execute_reply.started": "2023-01-30T02:01:51.246893Z"
    },
    "tags": []
   },
   "outputs": [],
   "source": [
    "def find_outlier_threshold(df):\n",
    "    '''\n",
    "    THis function searches for optimal\n",
    "    threshold for dropping outliers\n",
    "    Threshold is a number by which we multiply interquartile distance\n",
    "\n",
    "    '''\n",
    "    best_score = 0\n",
    "    best_threshold = 0\n",
    "    for threshold in tqdm(range(10, 300, 20)):\n",
    "\n",
    "        Q1 = df.quantile(0.25)\n",
    "        Q3 = df.quantile(0.75)\n",
    "        IQR = Q3 - Q1\n",
    "        # Number of interquantile distances\n",
    "\n",
    "        df_train_without_outliers = df[~(\n",
    "            (df < (Q1 - threshold * IQR)) & (IQR != 0)).any(axis=1)]\n",
    "\n",
    "        df_train_without_outliers = df[~(\n",
    "            (df > (Q3 + threshold * IQR)) & (IQR != 0)).any(axis=1)]\n",
    "\n",
    "        X_train, X_test, y_train, y_test = split_data(\n",
    "            df_train_without_outliers)\n",
    "\n",
    "        # Initialize the LightGBM Classifier\n",
    "        best_model = lgb.LGBMClassifier(\n",
    "            class_weight=\"balanced\", importance_type=\"gain\", n_jobs=-1, **parametres_)\n",
    "\n",
    "        # Train the classifier on the entire dataset\n",
    "        best_model.fit(X_train, y_train)\n",
    "\n",
    "        y_pred = best_model.predict(X_test)\n",
    "\n",
    "        # Calculate the macro-F1-score\n",
    "        macro_f1 = f1_score(y_test, y_pred, average='macro')\n",
    "        if macro_f1 > best_score:\n",
    "            best_score = macro_f1\n",
    "\n",
    "            best_threshold = threshold\n",
    "\n",
    "    print('Best score is:', best_score)\n",
    "    print('Best threshold is:', best_threshold)\n",
    "    return best_threshold"
   ]
  },
  {
   "cell_type": "code",
   "execution_count": 25,
   "id": "65e103f8-9858-4255-abe2-ddfe6a4376b4",
   "metadata": {
    "execution": {
     "iopub.execute_input": "2023-01-30T02:01:53.788515Z",
     "iopub.status.busy": "2023-01-30T02:01:53.788260Z",
     "iopub.status.idle": "2023-01-30T02:07:10.224598Z",
     "shell.execute_reply": "2023-01-30T02:07:10.224078Z",
     "shell.execute_reply.started": "2023-01-30T02:01:53.788498Z"
    },
    "tags": []
   },
   "outputs": [
    {
     "name": "stderr",
     "output_type": "stream",
     "text": [
      "100%|███████████████████████████████████████████| 15/15 [05:16<00:00, 21.09s/it]"
     ]
    },
    {
     "name": "stdout",
     "output_type": "stream",
     "text": [
      "Best score is: 0.5628469262851321\n",
      "Best threshold is: 270\n"
     ]
    },
    {
     "name": "stderr",
     "output_type": "stream",
     "text": [
      "\n"
     ]
    }
   ],
   "source": [
    "threshold = find_outlier_threshold(df_train)"
   ]
  },
  {
   "cell_type": "code",
   "execution_count": 31,
   "id": "da9bedd2-6059-4e01-9c0e-2f3da6553e5e",
   "metadata": {
    "execution": {
     "iopub.execute_input": "2023-01-30T02:14:54.493872Z",
     "iopub.status.busy": "2023-01-30T02:14:54.493281Z",
     "iopub.status.idle": "2023-01-30T02:15:15.710011Z",
     "shell.execute_reply": "2023-01-30T02:15:15.709498Z",
     "shell.execute_reply.started": "2023-01-30T02:14:54.493823Z"
    },
    "tags": []
   },
   "outputs": [
    {
     "name": "stdout",
     "output_type": "stream",
     "text": [
      "Overall f1-macro 0.5756917430904065\n",
      "F1-Score for class 0: 0.82\n",
      "F1-Score for class 1: 0.37\n",
      "F1-Score for class 2: 0.54\n"
     ]
    }
   ],
   "source": [
    "best_model = lgb.LGBMClassifier(\n",
    "    class_weight=\"balanced\", importance_type=\"gain\", n_jobs=-1, **parametres_)\n",
    "X_train, X_test, y_train, y_test = split_data(df_train)\n",
    "best_model.fit(X_train, y_train)\n",
    "y_pred = best_model.predict(X_test)\n",
    "\n",
    "\n",
    "macro_f1 = f1_score(y_test, y_pred, average='macro')\n",
    "# Calculate the macro-F1-score\n",
    "print('Overall f1-macro', macro_f1)\n",
    "precision, recall, f1_score_, support = precision_recall_fscore_support(\n",
    "    y_test, y_pred)\n",
    "class_labels = best_model.classes_\n",
    "for i in range(len(class_labels)):\n",
    "    print(f\"F1-Score for class {class_labels[i]}: {f1_score_[i]:.2f}\")"
   ]
  },
  {
   "cell_type": "code",
   "execution_count": 33,
   "id": "eece2f47-4b8f-4043-a755-3264bb4f391b",
   "metadata": {
    "execution": {
     "iopub.execute_input": "2023-01-30T02:20:35.888267Z",
     "iopub.status.busy": "2023-01-30T02:20:35.887933Z",
     "iopub.status.idle": "2023-01-30T02:21:03.257511Z",
     "shell.execute_reply": "2023-01-30T02:21:03.256918Z",
     "shell.execute_reply.started": "2023-01-30T02:20:35.888246Z"
    },
    "tags": []
   },
   "outputs": [
    {
     "data": {
      "text/html": [
       "<style>#sk-container-id-2 {color: black;background-color: white;}#sk-container-id-2 pre{padding: 0;}#sk-container-id-2 div.sk-toggleable {background-color: white;}#sk-container-id-2 label.sk-toggleable__label {cursor: pointer;display: block;width: 100%;margin-bottom: 0;padding: 0.3em;box-sizing: border-box;text-align: center;}#sk-container-id-2 label.sk-toggleable__label-arrow:before {content: \"▸\";float: left;margin-right: 0.25em;color: #696969;}#sk-container-id-2 label.sk-toggleable__label-arrow:hover:before {color: black;}#sk-container-id-2 div.sk-estimator:hover label.sk-toggleable__label-arrow:before {color: black;}#sk-container-id-2 div.sk-toggleable__content {max-height: 0;max-width: 0;overflow: hidden;text-align: left;background-color: #f0f8ff;}#sk-container-id-2 div.sk-toggleable__content pre {margin: 0.2em;color: black;border-radius: 0.25em;background-color: #f0f8ff;}#sk-container-id-2 input.sk-toggleable__control:checked~div.sk-toggleable__content {max-height: 200px;max-width: 100%;overflow: auto;}#sk-container-id-2 input.sk-toggleable__control:checked~label.sk-toggleable__label-arrow:before {content: \"▾\";}#sk-container-id-2 div.sk-estimator input.sk-toggleable__control:checked~label.sk-toggleable__label {background-color: #d4ebff;}#sk-container-id-2 div.sk-label input.sk-toggleable__control:checked~label.sk-toggleable__label {background-color: #d4ebff;}#sk-container-id-2 input.sk-hidden--visually {border: 0;clip: rect(1px 1px 1px 1px);clip: rect(1px, 1px, 1px, 1px);height: 1px;margin: -1px;overflow: hidden;padding: 0;position: absolute;width: 1px;}#sk-container-id-2 div.sk-estimator {font-family: monospace;background-color: #f0f8ff;border: 1px dotted black;border-radius: 0.25em;box-sizing: border-box;margin-bottom: 0.5em;}#sk-container-id-2 div.sk-estimator:hover {background-color: #d4ebff;}#sk-container-id-2 div.sk-parallel-item::after {content: \"\";width: 100%;border-bottom: 1px solid gray;flex-grow: 1;}#sk-container-id-2 div.sk-label:hover label.sk-toggleable__label {background-color: #d4ebff;}#sk-container-id-2 div.sk-serial::before {content: \"\";position: absolute;border-left: 1px solid gray;box-sizing: border-box;top: 0;bottom: 0;left: 50%;z-index: 0;}#sk-container-id-2 div.sk-serial {display: flex;flex-direction: column;align-items: center;background-color: white;padding-right: 0.2em;padding-left: 0.2em;position: relative;}#sk-container-id-2 div.sk-item {position: relative;z-index: 1;}#sk-container-id-2 div.sk-parallel {display: flex;align-items: stretch;justify-content: center;background-color: white;position: relative;}#sk-container-id-2 div.sk-item::before, #sk-container-id-2 div.sk-parallel-item::before {content: \"\";position: absolute;border-left: 1px solid gray;box-sizing: border-box;top: 0;bottom: 0;left: 50%;z-index: -1;}#sk-container-id-2 div.sk-parallel-item {display: flex;flex-direction: column;z-index: 1;position: relative;background-color: white;}#sk-container-id-2 div.sk-parallel-item:first-child::after {align-self: flex-end;width: 50%;}#sk-container-id-2 div.sk-parallel-item:last-child::after {align-self: flex-start;width: 50%;}#sk-container-id-2 div.sk-parallel-item:only-child::after {width: 0;}#sk-container-id-2 div.sk-dashed-wrapped {border: 1px dashed gray;margin: 0 0.4em 0.5em 0.4em;box-sizing: border-box;padding-bottom: 0.4em;background-color: white;}#sk-container-id-2 div.sk-label label {font-family: monospace;font-weight: bold;display: inline-block;line-height: 1.2em;}#sk-container-id-2 div.sk-label-container {text-align: center;}#sk-container-id-2 div.sk-container {/* jupyter's `normalize.less` sets `[hidden] { display: none; }` but bootstrap.min.css set `[hidden] { display: none !important; }` so we also need the `!important` here to be able to override the default hidden behavior on the sphinx rendered scikit-learn.org. See: https://github.com/scikit-learn/scikit-learn/issues/21755 */display: inline-block !important;position: relative;}#sk-container-id-2 div.sk-text-repr-fallback {display: none;}</style><div id=\"sk-container-id-2\" class=\"sk-top-container\"><div class=\"sk-text-repr-fallback\"><pre>LGBMClassifier(class_weight=&#x27;balanced&#x27;, colsample_bytree=0.7985005675497825,\n",
       "               importance_type=&#x27;gain&#x27;, learning_rate=0.020120882485445236,\n",
       "               min_child_samples=18, n_estimators=410, num_leaves=92,\n",
       "               reg_alpha=0.19395485708076837, reg_lambda=0.1767091510357383)</pre><b>In a Jupyter environment, please rerun this cell to show the HTML representation or trust the notebook. <br />On GitHub, the HTML representation is unable to render, please try loading this page with nbviewer.org.</b></div><div class=\"sk-container\" hidden><div class=\"sk-item\"><div class=\"sk-estimator sk-toggleable\"><input class=\"sk-toggleable__control sk-hidden--visually\" id=\"sk-estimator-id-2\" type=\"checkbox\" checked><label for=\"sk-estimator-id-2\" class=\"sk-toggleable__label sk-toggleable__label-arrow\">LGBMClassifier</label><div class=\"sk-toggleable__content\"><pre>LGBMClassifier(class_weight=&#x27;balanced&#x27;, colsample_bytree=0.7985005675497825,\n",
       "               importance_type=&#x27;gain&#x27;, learning_rate=0.020120882485445236,\n",
       "               min_child_samples=18, n_estimators=410, num_leaves=92,\n",
       "               reg_alpha=0.19395485708076837, reg_lambda=0.1767091510357383)</pre></div></div></div></div></div>"
      ],
      "text/plain": [
       "LGBMClassifier(class_weight='balanced', colsample_bytree=0.7985005675497825,\n",
       "               importance_type='gain', learning_rate=0.020120882485445236,\n",
       "               min_child_samples=18, n_estimators=410, num_leaves=92,\n",
       "               reg_alpha=0.19395485708076837, reg_lambda=0.1767091510357383)"
      ]
     },
     "execution_count": 33,
     "metadata": {},
     "output_type": "execute_result"
    }
   ],
   "source": [
    "# Fitting the model for test predictions for test dataset\n",
    "\n",
    "best_model = lgb.LGBMClassifier(\n",
    "    class_weight=\"balanced\", importance_type=\"gain\", n_jobs=-1, **parametres_)\n",
    "\n",
    "best_model.fit(df_train.drop(columns=['target', 'id']), df_train['target'])"
   ]
  },
  {
   "cell_type": "markdown",
   "id": "bad462a5-6f1a-474f-b2e0-bbc0e32f29ef",
   "metadata": {},
   "source": [
    "Moving threshold does not improve the result, because we USE LGBM Classifier model"
   ]
  },
  {
   "cell_type": "markdown",
   "id": "94d5beaf-2aeb-4a67-9c71-f04427e68e83",
   "metadata": {
    "tags": []
   },
   "source": [
    "## Test predicting and saving resulting dataframe"
   ]
  },
  {
   "cell_type": "code",
   "execution_count": 43,
   "id": "587969b4-cdd3-41c1-80b8-f155de6fde39",
   "metadata": {
    "execution": {
     "iopub.execute_input": "2023-01-30T02:30:53.335843Z",
     "iopub.status.busy": "2023-01-30T02:30:53.335240Z",
     "iopub.status.idle": "2023-01-30T02:30:53.669198Z",
     "shell.execute_reply": "2023-01-30T02:30:53.668547Z",
     "shell.execute_reply.started": "2023-01-30T02:30:53.335791Z"
    },
    "tags": []
   },
   "outputs": [
    {
     "name": "stdout",
     "output_type": "stream",
     "text": [
      "0    4389\n",
      "1    1289\n",
      "2     453\n",
      "Name: TARGET, dtype: int64\n"
     ]
    }
   ],
   "source": [
    "df_test = preprocessing(df_test)\n",
    "\n",
    "df_test = df_test[df_train.drop(columns='target').columns]\n",
    "\n",
    "best_model.predict(df_test.drop(columns='id'))\n",
    "\n",
    "contest_answer = pd.DataFrame(\n",
    "    data={\"ID\": df_test['id'], \"TARGET\": best_model.predict(df_test.drop(columns='id'))})\n",
    "\n",
    "print(contest_answer['TARGET'].value_counts())\n",
    "\n",
    "contest_answer.to_csv(\"contest_answer.csv\", index=False,\n",
    "                      columns=[\"ID\", \"TARGET\"])"
   ]
  },
  {
   "cell_type": "markdown",
   "id": "bdbe0e24-2db0-4c40-8beb-20a60b69faf7",
   "metadata": {
    "tags": []
   },
   "source": [
    "## Conclusion\n",
    "\n",
    "In this notebook, we did:\n",
    "\n",
    " 1. EDA\n",
    " 2. Preprocessing (cleaning data from NaNs, duplicates, cleaning column names from symbols which conflict with LightGBM)\n",
    " 3. Cleaning data from highly correlated featres and constants.\n",
    " 4. Building a model using optuna optimization\n",
    " 5. Oversampling and undersampling, with no result. Used built in 'class-weight = balanced'\n",
    " 6. Permutation importance and importance gain techniques building to sort out most important and useless features. Found out that most important feature is feature_80. Dropped most useless with no result in metrics.\n",
    " 7. Searching for best threshold and dropped outliers using it\n",
    " 8. Using this model, making predictions for test dataset and saved them into a file.\n",
    " \n",
    "We got a metric f1_macro : 0.5756. Comparing to baseline results of Dummy Classifier 0.3304,  result seems reasonable. But yet we perform poorly for class '1'\n",
    "\n",
    "Model could be improved further:\n",
    "    \n",
    "    - Using cross_val_score instead of train_test_split.- We can use cross_val_score instead of train_test_split. We used train_test_split  for saving computing time\n",
    "    \n",
    "    - F1 score for classes 1 and 2 is performing not well. Building 2 models: first to tell 0 class from others, and second to tell 1  from 2 can work\n",
    "\n",
    "    - Using LAMA to compare our results of optuna optimization with its inner algorythms that are more sophisticated that ours.\n",
    "\n",
    "    - Experminting with keeping some columns with NaNs and putting plugs into them.\n",
    "    \n",
    "    - Using more sophisticated techniques to choose features, like generating random or adding one by one, or dropping one by one.\n",
    "    \n",
    "    - Searching for further insights in data.\n",
    "    \n",
    "    - Experimtenting with filling NaNs with Random Forrest\n",
    "    \n",
    "    - Experimenting with thresholds of correlation\n",
    "    \n",
    "    - Using more n_trials in optuna\n",
    "    \n",
    "    - Using shap values to interpret models\n",
    "\n",
    "    - Moving big functions to separate file \".py"
   ]
  }
 ],
 "metadata": {
  "kernelspec": {
   "display_name": "Python 3",
   "language": "python",
   "name": "python3"
  },
  "language_info": {
   "codemirror_mode": {
    "name": "ipython",
    "version": 3
   },
   "file_extension": ".py",
   "mimetype": "text/x-python",
   "name": "python",
   "nbconvert_exporter": "python",
   "pygments_lexer": "ipython3",
   "version": "3.8.8"
  },
  "toc": {
   "base_numbering": 1,
   "nav_menu": {},
   "number_sections": true,
   "sideBar": true,
   "skip_h1_title": false,
   "title_cell": "Содержание",
   "title_sidebar": "Содержание",
   "toc_cell": true,
   "toc_position": {},
   "toc_section_display": true,
   "toc_window_display": true
  }
 },
 "nbformat": 4,
 "nbformat_minor": 5
}
